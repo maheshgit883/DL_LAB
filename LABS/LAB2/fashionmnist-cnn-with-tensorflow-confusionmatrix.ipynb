{
 "cells": [
  {
   "cell_type": "markdown",
   "id": "266d08a5",
   "metadata": {
    "papermill": {
     "duration": 0.031834,
     "end_time": "2022-04-22T11:38:13.789577",
     "exception": false,
     "start_time": "2022-04-22T11:38:13.757743",
     "status": "completed"
    },
    "tags": []
   },
   "source": [
    "# Fashion MNIST - Building a CNN model with TensorFlow"
   ]
  },
  {
   "cell_type": "markdown",
   "id": "bfc375cd",
   "metadata": {
    "papermill": {
     "duration": 0.030689,
     "end_time": "2022-04-22T11:38:13.852152",
     "exception": false,
     "start_time": "2022-04-22T11:38:13.821463",
     "status": "completed"
    },
    "tags": []
   },
   "source": [
    "# Libraries"
   ]
  },
  {
   "cell_type": "code",
   "execution_count": 1,
   "id": "2c800254",
   "metadata": {
    "_cell_guid": "b1076dfc-b9ad-4769-8c92-a6c4dae69d19",
    "_uuid": "8f2839f25d086af736a60e9eeb907d3b93b6e0e5",
    "execution": {
     "iopub.execute_input": "2022-04-22T11:38:13.915493Z",
     "iopub.status.busy": "2022-04-22T11:38:13.914664Z",
     "iopub.status.idle": "2022-04-22T11:38:20.042288Z",
     "shell.execute_reply": "2022-04-22T11:38:20.041267Z"
    },
    "papermill": {
     "duration": 6.16243,
     "end_time": "2022-04-22T11:38:20.045030",
     "exception": false,
     "start_time": "2022-04-22T11:38:13.882600",
     "status": "completed"
    },
    "tags": []
   },
   "outputs": [],
   "source": [
    "import pandas as pd\n",
    "import numpy as np\n",
    "import tensorflow as tf\n",
    "import matplotlib.pyplot as plt\n",
    "from sklearn.metrics import plot_confusion_matrix, ConfusionMatrixDisplay, confusion_matrix"
   ]
  },
  {
   "cell_type": "markdown",
   "id": "6b3ccd59",
   "metadata": {
    "papermill": {
     "duration": 0.029799,
     "end_time": "2022-04-22T11:38:20.105350",
     "exception": false,
     "start_time": "2022-04-22T11:38:20.075551",
     "status": "completed"
    },
    "tags": []
   },
   "source": [
    "# Loading data\n"
   ]
  },
  {
   "cell_type": "code",
   "execution_count": 2,
   "id": "3a6ec368",
   "metadata": {
    "execution": {
     "iopub.execute_input": "2022-04-22T11:38:20.167415Z",
     "iopub.status.busy": "2022-04-22T11:38:20.166940Z",
     "iopub.status.idle": "2022-04-22T11:38:27.660677Z",
     "shell.execute_reply": "2022-04-22T11:38:27.659770Z"
    },
    "papermill": {
     "duration": 7.527651,
     "end_time": "2022-04-22T11:38:27.663082",
     "exception": false,
     "start_time": "2022-04-22T11:38:20.135431",
     "status": "completed"
    },
    "tags": []
   },
   "outputs": [],
   "source": [
    "train = pd.read_csv('../input/fashionmnist/fashion-mnist_train.csv')\n",
    "test = pd.read_csv('../input/fashionmnist/fashion-mnist_test.csv')"
   ]
  },
  {
   "cell_type": "markdown",
   "id": "5d92d32d",
   "metadata": {
    "papermill": {
     "duration": 0.03218,
     "end_time": "2022-04-22T11:38:27.725734",
     "exception": false,
     "start_time": "2022-04-22T11:38:27.693554",
     "status": "completed"
    },
    "tags": []
   },
   "source": [
    "## Explore Data"
   ]
  },
  {
   "cell_type": "code",
   "execution_count": 3,
   "id": "d555ba9f",
   "metadata": {
    "execution": {
     "iopub.execute_input": "2022-04-22T11:38:27.788677Z",
     "iopub.status.busy": "2022-04-22T11:38:27.787629Z",
     "iopub.status.idle": "2022-04-22T11:38:27.823995Z",
     "shell.execute_reply": "2022-04-22T11:38:27.822937Z"
    },
    "papermill": {
     "duration": 0.070379,
     "end_time": "2022-04-22T11:38:27.826537",
     "exception": false,
     "start_time": "2022-04-22T11:38:27.756158",
     "status": "completed"
    },
    "tags": []
   },
   "outputs": [
    {
     "data": {
      "text/html": [
       "<div>\n",
       "<style scoped>\n",
       "    .dataframe tbody tr th:only-of-type {\n",
       "        vertical-align: middle;\n",
       "    }\n",
       "\n",
       "    .dataframe tbody tr th {\n",
       "        vertical-align: top;\n",
       "    }\n",
       "\n",
       "    .dataframe thead th {\n",
       "        text-align: right;\n",
       "    }\n",
       "</style>\n",
       "<table border=\"1\" class=\"dataframe\">\n",
       "  <thead>\n",
       "    <tr style=\"text-align: right;\">\n",
       "      <th></th>\n",
       "      <th>label</th>\n",
       "      <th>pixel1</th>\n",
       "      <th>pixel2</th>\n",
       "      <th>pixel3</th>\n",
       "      <th>pixel4</th>\n",
       "      <th>pixel5</th>\n",
       "      <th>pixel6</th>\n",
       "      <th>pixel7</th>\n",
       "      <th>pixel8</th>\n",
       "      <th>pixel9</th>\n",
       "      <th>...</th>\n",
       "      <th>pixel775</th>\n",
       "      <th>pixel776</th>\n",
       "      <th>pixel777</th>\n",
       "      <th>pixel778</th>\n",
       "      <th>pixel779</th>\n",
       "      <th>pixel780</th>\n",
       "      <th>pixel781</th>\n",
       "      <th>pixel782</th>\n",
       "      <th>pixel783</th>\n",
       "      <th>pixel784</th>\n",
       "    </tr>\n",
       "  </thead>\n",
       "  <tbody>\n",
       "    <tr>\n",
       "      <th>0</th>\n",
       "      <td>2</td>\n",
       "      <td>0</td>\n",
       "      <td>0</td>\n",
       "      <td>0</td>\n",
       "      <td>0</td>\n",
       "      <td>0</td>\n",
       "      <td>0</td>\n",
       "      <td>0</td>\n",
       "      <td>0</td>\n",
       "      <td>0</td>\n",
       "      <td>...</td>\n",
       "      <td>0</td>\n",
       "      <td>0</td>\n",
       "      <td>0</td>\n",
       "      <td>0</td>\n",
       "      <td>0</td>\n",
       "      <td>0</td>\n",
       "      <td>0</td>\n",
       "      <td>0</td>\n",
       "      <td>0</td>\n",
       "      <td>0</td>\n",
       "    </tr>\n",
       "    <tr>\n",
       "      <th>1</th>\n",
       "      <td>9</td>\n",
       "      <td>0</td>\n",
       "      <td>0</td>\n",
       "      <td>0</td>\n",
       "      <td>0</td>\n",
       "      <td>0</td>\n",
       "      <td>0</td>\n",
       "      <td>0</td>\n",
       "      <td>0</td>\n",
       "      <td>0</td>\n",
       "      <td>...</td>\n",
       "      <td>0</td>\n",
       "      <td>0</td>\n",
       "      <td>0</td>\n",
       "      <td>0</td>\n",
       "      <td>0</td>\n",
       "      <td>0</td>\n",
       "      <td>0</td>\n",
       "      <td>0</td>\n",
       "      <td>0</td>\n",
       "      <td>0</td>\n",
       "    </tr>\n",
       "    <tr>\n",
       "      <th>2</th>\n",
       "      <td>6</td>\n",
       "      <td>0</td>\n",
       "      <td>0</td>\n",
       "      <td>0</td>\n",
       "      <td>0</td>\n",
       "      <td>0</td>\n",
       "      <td>0</td>\n",
       "      <td>0</td>\n",
       "      <td>5</td>\n",
       "      <td>0</td>\n",
       "      <td>...</td>\n",
       "      <td>0</td>\n",
       "      <td>0</td>\n",
       "      <td>0</td>\n",
       "      <td>30</td>\n",
       "      <td>43</td>\n",
       "      <td>0</td>\n",
       "      <td>0</td>\n",
       "      <td>0</td>\n",
       "      <td>0</td>\n",
       "      <td>0</td>\n",
       "    </tr>\n",
       "    <tr>\n",
       "      <th>3</th>\n",
       "      <td>0</td>\n",
       "      <td>0</td>\n",
       "      <td>0</td>\n",
       "      <td>0</td>\n",
       "      <td>1</td>\n",
       "      <td>2</td>\n",
       "      <td>0</td>\n",
       "      <td>0</td>\n",
       "      <td>0</td>\n",
       "      <td>0</td>\n",
       "      <td>...</td>\n",
       "      <td>3</td>\n",
       "      <td>0</td>\n",
       "      <td>0</td>\n",
       "      <td>0</td>\n",
       "      <td>0</td>\n",
       "      <td>1</td>\n",
       "      <td>0</td>\n",
       "      <td>0</td>\n",
       "      <td>0</td>\n",
       "      <td>0</td>\n",
       "    </tr>\n",
       "    <tr>\n",
       "      <th>4</th>\n",
       "      <td>3</td>\n",
       "      <td>0</td>\n",
       "      <td>0</td>\n",
       "      <td>0</td>\n",
       "      <td>0</td>\n",
       "      <td>0</td>\n",
       "      <td>0</td>\n",
       "      <td>0</td>\n",
       "      <td>0</td>\n",
       "      <td>0</td>\n",
       "      <td>...</td>\n",
       "      <td>0</td>\n",
       "      <td>0</td>\n",
       "      <td>0</td>\n",
       "      <td>0</td>\n",
       "      <td>0</td>\n",
       "      <td>0</td>\n",
       "      <td>0</td>\n",
       "      <td>0</td>\n",
       "      <td>0</td>\n",
       "      <td>0</td>\n",
       "    </tr>\n",
       "    <tr>\n",
       "      <th>...</th>\n",
       "      <td>...</td>\n",
       "      <td>...</td>\n",
       "      <td>...</td>\n",
       "      <td>...</td>\n",
       "      <td>...</td>\n",
       "      <td>...</td>\n",
       "      <td>...</td>\n",
       "      <td>...</td>\n",
       "      <td>...</td>\n",
       "      <td>...</td>\n",
       "      <td>...</td>\n",
       "      <td>...</td>\n",
       "      <td>...</td>\n",
       "      <td>...</td>\n",
       "      <td>...</td>\n",
       "      <td>...</td>\n",
       "      <td>...</td>\n",
       "      <td>...</td>\n",
       "      <td>...</td>\n",
       "      <td>...</td>\n",
       "      <td>...</td>\n",
       "    </tr>\n",
       "    <tr>\n",
       "      <th>59995</th>\n",
       "      <td>9</td>\n",
       "      <td>0</td>\n",
       "      <td>0</td>\n",
       "      <td>0</td>\n",
       "      <td>0</td>\n",
       "      <td>0</td>\n",
       "      <td>0</td>\n",
       "      <td>0</td>\n",
       "      <td>0</td>\n",
       "      <td>0</td>\n",
       "      <td>...</td>\n",
       "      <td>0</td>\n",
       "      <td>0</td>\n",
       "      <td>0</td>\n",
       "      <td>0</td>\n",
       "      <td>0</td>\n",
       "      <td>0</td>\n",
       "      <td>0</td>\n",
       "      <td>0</td>\n",
       "      <td>0</td>\n",
       "      <td>0</td>\n",
       "    </tr>\n",
       "    <tr>\n",
       "      <th>59996</th>\n",
       "      <td>1</td>\n",
       "      <td>0</td>\n",
       "      <td>0</td>\n",
       "      <td>0</td>\n",
       "      <td>0</td>\n",
       "      <td>0</td>\n",
       "      <td>0</td>\n",
       "      <td>0</td>\n",
       "      <td>0</td>\n",
       "      <td>0</td>\n",
       "      <td>...</td>\n",
       "      <td>73</td>\n",
       "      <td>0</td>\n",
       "      <td>0</td>\n",
       "      <td>0</td>\n",
       "      <td>0</td>\n",
       "      <td>0</td>\n",
       "      <td>0</td>\n",
       "      <td>0</td>\n",
       "      <td>0</td>\n",
       "      <td>0</td>\n",
       "    </tr>\n",
       "    <tr>\n",
       "      <th>59997</th>\n",
       "      <td>8</td>\n",
       "      <td>0</td>\n",
       "      <td>0</td>\n",
       "      <td>0</td>\n",
       "      <td>0</td>\n",
       "      <td>0</td>\n",
       "      <td>0</td>\n",
       "      <td>0</td>\n",
       "      <td>0</td>\n",
       "      <td>0</td>\n",
       "      <td>...</td>\n",
       "      <td>160</td>\n",
       "      <td>162</td>\n",
       "      <td>163</td>\n",
       "      <td>135</td>\n",
       "      <td>94</td>\n",
       "      <td>0</td>\n",
       "      <td>0</td>\n",
       "      <td>0</td>\n",
       "      <td>0</td>\n",
       "      <td>0</td>\n",
       "    </tr>\n",
       "    <tr>\n",
       "      <th>59998</th>\n",
       "      <td>8</td>\n",
       "      <td>0</td>\n",
       "      <td>0</td>\n",
       "      <td>0</td>\n",
       "      <td>0</td>\n",
       "      <td>0</td>\n",
       "      <td>0</td>\n",
       "      <td>0</td>\n",
       "      <td>0</td>\n",
       "      <td>0</td>\n",
       "      <td>...</td>\n",
       "      <td>0</td>\n",
       "      <td>0</td>\n",
       "      <td>0</td>\n",
       "      <td>0</td>\n",
       "      <td>0</td>\n",
       "      <td>0</td>\n",
       "      <td>0</td>\n",
       "      <td>0</td>\n",
       "      <td>0</td>\n",
       "      <td>0</td>\n",
       "    </tr>\n",
       "    <tr>\n",
       "      <th>59999</th>\n",
       "      <td>7</td>\n",
       "      <td>0</td>\n",
       "      <td>0</td>\n",
       "      <td>0</td>\n",
       "      <td>0</td>\n",
       "      <td>0</td>\n",
       "      <td>0</td>\n",
       "      <td>0</td>\n",
       "      <td>0</td>\n",
       "      <td>0</td>\n",
       "      <td>...</td>\n",
       "      <td>0</td>\n",
       "      <td>0</td>\n",
       "      <td>0</td>\n",
       "      <td>0</td>\n",
       "      <td>0</td>\n",
       "      <td>0</td>\n",
       "      <td>0</td>\n",
       "      <td>0</td>\n",
       "      <td>0</td>\n",
       "      <td>0</td>\n",
       "    </tr>\n",
       "  </tbody>\n",
       "</table>\n",
       "<p>60000 rows × 785 columns</p>\n",
       "</div>"
      ],
      "text/plain": [
       "       label  pixel1  pixel2  pixel3  pixel4  pixel5  pixel6  pixel7  pixel8  \\\n",
       "0          2       0       0       0       0       0       0       0       0   \n",
       "1          9       0       0       0       0       0       0       0       0   \n",
       "2          6       0       0       0       0       0       0       0       5   \n",
       "3          0       0       0       0       1       2       0       0       0   \n",
       "4          3       0       0       0       0       0       0       0       0   \n",
       "...      ...     ...     ...     ...     ...     ...     ...     ...     ...   \n",
       "59995      9       0       0       0       0       0       0       0       0   \n",
       "59996      1       0       0       0       0       0       0       0       0   \n",
       "59997      8       0       0       0       0       0       0       0       0   \n",
       "59998      8       0       0       0       0       0       0       0       0   \n",
       "59999      7       0       0       0       0       0       0       0       0   \n",
       "\n",
       "       pixel9  ...  pixel775  pixel776  pixel777  pixel778  pixel779  \\\n",
       "0           0  ...         0         0         0         0         0   \n",
       "1           0  ...         0         0         0         0         0   \n",
       "2           0  ...         0         0         0        30        43   \n",
       "3           0  ...         3         0         0         0         0   \n",
       "4           0  ...         0         0         0         0         0   \n",
       "...       ...  ...       ...       ...       ...       ...       ...   \n",
       "59995       0  ...         0         0         0         0         0   \n",
       "59996       0  ...        73         0         0         0         0   \n",
       "59997       0  ...       160       162       163       135        94   \n",
       "59998       0  ...         0         0         0         0         0   \n",
       "59999       0  ...         0         0         0         0         0   \n",
       "\n",
       "       pixel780  pixel781  pixel782  pixel783  pixel784  \n",
       "0             0         0         0         0         0  \n",
       "1             0         0         0         0         0  \n",
       "2             0         0         0         0         0  \n",
       "3             1         0         0         0         0  \n",
       "4             0         0         0         0         0  \n",
       "...         ...       ...       ...       ...       ...  \n",
       "59995         0         0         0         0         0  \n",
       "59996         0         0         0         0         0  \n",
       "59997         0         0         0         0         0  \n",
       "59998         0         0         0         0         0  \n",
       "59999         0         0         0         0         0  \n",
       "\n",
       "[60000 rows x 785 columns]"
      ]
     },
     "execution_count": 3,
     "metadata": {},
     "output_type": "execute_result"
    }
   ],
   "source": [
    "train"
   ]
  },
  {
   "cell_type": "markdown",
   "id": "c551e199",
   "metadata": {
    "papermill": {
     "duration": 0.031047,
     "end_time": "2022-04-22T11:38:27.952103",
     "exception": false,
     "start_time": "2022-04-22T11:38:27.921056",
     "status": "completed"
    },
    "tags": []
   },
   "source": [
    "# Reshaping and building tensors\n",
    "\n",
    "\n",
    "**What we need :**\n",
    "\n",
    "Image shape : 28 x 28 x 1\n",
    "\n",
    "Train_data shape : 60000 x 28 x 28 x 1\n",
    "\n",
    "Test_data shape : 10000 x 28 x 28 x 1\n",
    "\n",
    "Train_labels shape: 60000\n",
    "\n",
    "Test_labels shape: 10000"
   ]
  },
  {
   "cell_type": "code",
   "execution_count": 4,
   "id": "8e5d51cc",
   "metadata": {
    "execution": {
     "iopub.execute_input": "2022-04-22T11:38:28.016819Z",
     "iopub.status.busy": "2022-04-22T11:38:28.016481Z",
     "iopub.status.idle": "2022-04-22T11:38:28.352321Z",
     "shell.execute_reply": "2022-04-22T11:38:28.351375Z"
    },
    "papermill": {
     "duration": 0.371179,
     "end_time": "2022-04-22T11:38:28.354753",
     "exception": false,
     "start_time": "2022-04-22T11:38:27.983574",
     "status": "completed"
    },
    "tags": []
   },
   "outputs": [
    {
     "name": "stdout",
     "output_type": "stream",
     "text": [
      "Train tensor shape:  (60000, 28, 28, 1)\n",
      "Test tensor shape:  (10000, 28, 28, 1)\n",
      "Single image shape: (28, 28, 1)\n",
      "Train_labels shape: (60000,)\n",
      "Test_labels shape: (10000,)\n"
     ]
    }
   ],
   "source": [
    "#store first column as target vector\n",
    "train_labels = np.array(train.label)\n",
    "test_labels = np.array(test.label)\n",
    "\n",
    "train.drop('label',axis=1, inplace=True)\n",
    "test.drop('label',axis=1, inplace=True)\n",
    "\n",
    "#Reshape - adding one more dimension to each image\n",
    "train_data = np.array(train).reshape(train.shape[0],28,28,1)\n",
    "test_data = np.array(test).reshape(test.shape[0],28,28,1)\n",
    "\n",
    "#Print shapes\n",
    "print('Train tensor shape: ',train_data.shape)\n",
    "print('Test tensor shape: ',test_data.shape)\n",
    "print('Single image shape:', train_data[0].shape)\n",
    "print('Train_labels shape:', train_labels.shape)\n",
    "print('Test_labels shape:', test_labels.shape)"
   ]
  },
  {
   "cell_type": "markdown",
   "id": "622c2170",
   "metadata": {
    "papermill": {
     "duration": 0.031772,
     "end_time": "2022-04-22T11:38:28.418981",
     "exception": false,
     "start_time": "2022-04-22T11:38:28.387209",
     "status": "completed"
    },
    "tags": []
   },
   "source": [
    "# Label names\n",
    "\n",
    "Each training and test example is assigned to one of the following numbers :\n",
    "\n",
    "* 0 T-shirt/top\n",
    "* 1 Trouser\n",
    "* 2 Pullover\n",
    "* 3 Dress\n",
    "* 4 Coat\n",
    "* 5 Sandal\n",
    "* 6 Shirt\n",
    "* 7 Sneaker\n",
    "* 8 Bag\n",
    "* 9 Ankle boot"
   ]
  },
  {
   "cell_type": "markdown",
   "id": "d05a5193",
   "metadata": {
    "papermill": {
     "duration": 0.03189,
     "end_time": "2022-04-22T11:38:28.483226",
     "exception": false,
     "start_time": "2022-04-22T11:38:28.451336",
     "status": "completed"
    },
    "tags": []
   },
   "source": [
    "### Make a list of label names\n"
   ]
  },
  {
   "cell_type": "code",
   "execution_count": 5,
   "id": "95a0f63a",
   "metadata": {
    "execution": {
     "iopub.execute_input": "2022-04-22T11:38:28.549977Z",
     "iopub.status.busy": "2022-04-22T11:38:28.549682Z",
     "iopub.status.idle": "2022-04-22T11:38:28.554639Z",
     "shell.execute_reply": "2022-04-22T11:38:28.553737Z"
    },
    "papermill": {
     "duration": 0.040618,
     "end_time": "2022-04-22T11:38:28.556850",
     "exception": false,
     "start_time": "2022-04-22T11:38:28.516232",
     "status": "completed"
    },
    "tags": []
   },
   "outputs": [],
   "source": [
    "#Create label names\n",
    "label_names = [\"T-shirt/top\",\"Trouser\",\"Pullover\",\"Dress\",\"Coat\",\"Sandal\",\"Shirt\",\"Sneaker\",\"Bag\",\"Ankle boot\"]"
   ]
  },
  {
   "cell_type": "markdown",
   "id": "a752700f",
   "metadata": {
    "papermill": {
     "duration": 0.033068,
     "end_time": "2022-04-22T11:38:28.622662",
     "exception": false,
     "start_time": "2022-04-22T11:38:28.589594",
     "status": "completed"
    },
    "tags": []
   },
   "source": [
    "# Visualize images randomly"
   ]
  },
  {
   "cell_type": "code",
   "execution_count": 6,
   "id": "40187fac",
   "metadata": {
    "execution": {
     "iopub.execute_input": "2022-04-22T11:38:28.689611Z",
     "iopub.status.busy": "2022-04-22T11:38:28.689295Z",
     "iopub.status.idle": "2022-04-22T11:38:29.344901Z",
     "shell.execute_reply": "2022-04-22T11:38:29.343782Z"
    },
    "papermill": {
     "duration": 0.691295,
     "end_time": "2022-04-22T11:38:29.347641",
     "exception": false,
     "start_time": "2022-04-22T11:38:28.656346",
     "status": "completed"
    },
    "tags": []
   },
   "outputs": [
    {
     "data": {
      "image/png": "[encoded data removed]",
      "text/plain": [
       "<Figure size 1080x504 with 12 Axes>"
      ]
     },
     "metadata": {
      "needs_background": "light"
     },
     "output_type": "display_data"
    }
   ],
   "source": [
    "import random\n",
    "plt.figure(figsize=(15,7))\n",
    "for i in range(12):\n",
    "    ax=plt.subplot(3,4,i+1)\n",
    "    rand_index=random.choice(range(len(train_data)))\n",
    "    plt.imshow(train_data[rand_index], cmap=plt.cm.binary)\n",
    "    plt.axis(False)\n",
    "    plt.title(label_names[train_labels[rand_index]])"
   ]
  },
  {
   "cell_type": "markdown",
   "id": "e89eed30",
   "metadata": {
    "papermill": {
     "duration": 0.034065,
     "end_time": "2022-04-22T11:38:29.416560",
     "exception": false,
     "start_time": "2022-04-22T11:38:29.382495",
     "status": "completed"
    },
    "tags": []
   },
   "source": [
    "# Normalization\n",
    "As the pixel values range from 0 to 256 , So dividing all the values by 255 will convert it to range from 0 to 1"
   ]
  },
  {
   "cell_type": "code",
   "execution_count": 7,
   "id": "e0a1043c",
   "metadata": {
    "execution": {
     "iopub.execute_input": "2022-04-22T11:38:29.485705Z",
     "iopub.status.busy": "2022-04-22T11:38:29.485435Z",
     "iopub.status.idle": "2022-04-22T11:38:29.715275Z",
     "shell.execute_reply": "2022-04-22T11:38:29.714171Z"
    },
    "papermill": {
     "duration": 0.267132,
     "end_time": "2022-04-22T11:38:29.717844",
     "exception": false,
     "start_time": "2022-04-22T11:38:29.450712",
     "status": "completed"
    },
    "tags": []
   },
   "outputs": [],
   "source": [
    "# Normalize\n",
    "train_norm = train_data / 255.0\n",
    "test_norm = test_data / 255.0"
   ]
  },
  {
   "cell_type": "markdown",
   "id": "26b86d89",
   "metadata": {
    "papermill": {
     "duration": 0.033464,
     "end_time": "2022-04-22T11:38:29.785211",
     "exception": false,
     "start_time": "2022-04-22T11:38:29.751747",
     "status": "completed"
    },
    "tags": []
   },
   "source": [
    "# Split the data\n"
   ]
  },
  {
   "cell_type": "code",
   "execution_count": 8,
   "id": "08ec2d9a",
   "metadata": {
    "execution": {
     "iopub.execute_input": "2022-04-22T11:38:29.854279Z",
     "iopub.status.busy": "2022-04-22T11:38:29.853706Z",
     "iopub.status.idle": "2022-04-22T11:38:29.859377Z",
     "shell.execute_reply": "2022-04-22T11:38:29.858330Z"
    },
    "papermill": {
     "duration": 0.042254,
     "end_time": "2022-04-22T11:38:29.861624",
     "exception": false,
     "start_time": "2022-04-22T11:38:29.819370",
     "status": "completed"
    },
    "tags": []
   },
   "outputs": [],
   "source": [
    "X_train = train_norm[10000:]\n",
    "y_train = train_labels[10000:]\n",
    "\n",
    "X_valid = train_norm[:10000]\n",
    "y_valid = train_labels[:10000]"
   ]
  },
  {
   "cell_type": "markdown",
   "id": "f3e382ac",
   "metadata": {
    "papermill": {
     "duration": 0.033199,
     "end_time": "2022-04-22T11:38:29.928400",
     "exception": false,
     "start_time": "2022-04-22T11:38:29.895201",
     "status": "completed"
    },
    "tags": []
   },
   "source": [
    "# Modeling"
   ]
  },
  {
   "cell_type": "markdown",
   "id": "738eccc0",
   "metadata": {
    "papermill": {
     "duration": 0.033276,
     "end_time": "2022-04-22T11:38:29.994602",
     "exception": false,
     "start_time": "2022-04-22T11:38:29.961326",
     "status": "completed"
    },
    "tags": []
   },
   "source": [
    "## Create model"
   ]
  },
  {
   "cell_type": "code",
   "execution_count": null,
   "id": "f6bcf2d2",
   "metadata": {
    "execution": {
     "iopub.execute_input": "2022-04-22T11:38:30.066976Z",
     "iopub.status.busy": "2022-04-22T11:38:30.066631Z",
     "iopub.status.idle": "2022-04-22T11:38:31.442073Z",
     "shell.execute_reply": "2022-04-22T11:38:31.441150Z"
    },
    "papermill": {
     "duration": 1.416664,
     "end_time": "2022-04-22T11:38:31.444677",
     "exception": false,
     "start_time": "2022-04-22T11:38:30.028013",
     "status": "completed"
    },
    "tags": []
   },
   "outputs": [],
   "source": [
    "#Set random seed\n",
    "tf.random.set_seed(42)\n",
    "\n",
    "#Create model\n",
    "model = tf.keras.Sequential([\n",
    "    \n",
    "    tf.keras.layers.Conv2D(filters=5, kernel_size=3, strides=1, padding=\"same\", activation=\"relu\",\n",
    "                           input_shape=(28,28,1)), \n",
    "    tf.keras.layers.Conv2D(10,3, padding=\"valid\", activation='relu'),\n",
    "    tf.keras.layers.MaxPool2D(pool_size=2),\n",
    "    tf.keras.layers.Conv2D(15,3, padding=\"valid\", activation='relu'),\n",
    "    tf.keras.layers.Conv2D(20,3, padding=\"valid\", activation='relu'),\n",
    "    tf.keras.layers.MaxPool2D(pool_size=2),\n",
    "    tf.keras.layers.Conv2D(25,3, padding=\"valid\", activation='relu'),\n",
    "    tf.keras.layers.MaxPool2D(pool_size=2),\n",
    "    tf.keras.layers.Flatten(),\n",
    "    tf.keras.layers.Dense(10, activation=\"softmax\") #Output layer\n",
    "\n",
    "])"
   ]
  },
  {
   "cell_type": "markdown",
   "id": "235ad7c7",
   "metadata": {
    "papermill": {
     "duration": 0.033927,
     "end_time": "2022-04-22T11:38:31.513138",
     "exception": false,
     "start_time": "2022-04-22T11:38:31.479211",
     "status": "completed"
    },
    "tags": []
   },
   "source": [
    "## Compile the model"
   ]
  },
  {
   "cell_type": "code",
   "execution_count": 10,
   "id": "32b902e7",
   "metadata": {
    "execution": {
     "iopub.execute_input": "2022-04-22T11:38:31.586159Z",
     "iopub.status.busy": "2022-04-22T11:38:31.585722Z",
     "iopub.status.idle": "2022-04-22T11:38:31.605060Z",
     "shell.execute_reply": "2022-04-22T11:38:31.604207Z"
    },
    "papermill": {
     "duration": 0.057874,
     "end_time": "2022-04-22T11:38:31.607219",
     "exception": false,
     "start_time": "2022-04-22T11:38:31.549345",
     "status": "completed"
    },
    "tags": []
   },
   "outputs": [
    {
     "name": "stdout",
     "output_type": "stream",
     "text": [
      "Model: \"sequential\"\n",
      "_________________________________________________________________\n",
      "Layer (type)                 Output Shape              Param #   \n",
      "=================================================================\n",
      "conv2d (Conv2D)              (None, 28, 28, 5)         50        \n",
      "_________________________________________________________________\n",
      "conv2d_1 (Conv2D)            (None, 26, 26, 10)        460       \n",
      "_________________________________________________________________\n",
      "max_pooling2d (MaxPooling2D) (None, 13, 13, 10)        0         \n",
      "_________________________________________________________________\n",
      "conv2d_2 (Conv2D)            (None, 11, 11, 15)        1365      \n",
      "_________________________________________________________________\n",
      "conv2d_3 (Conv2D)            (None, 9, 9, 20)          2720      \n",
      "_________________________________________________________________\n",
      "max_pooling2d_1 (MaxPooling2 (None, 4, 4, 20)          0         \n",
      "_________________________________________________________________\n",
      "conv2d_4 (Conv2D)            (None, 2, 2, 25)          4525      \n",
      "_________________________________________________________________\n",
      "max_pooling2d_2 (MaxPooling2 (None, 1, 1, 25)          0         \n",
      "_________________________________________________________________\n",
      "flatten (Flatten)            (None, 25)                0         \n",
      "_________________________________________________________________\n",
      "dense (Dense)                (None, 10)                260       \n",
      "=================================================================\n",
      "Total params: 9,380\n",
      "Trainable params: 9,380\n",
      "Non-trainable params: 0\n",
      "_________________________________________________________________\n"
     ]
    }
   ],
   "source": [
    "#Compile the model\n",
    "model.compile(loss=\"sparse_categorical_crossentropy\",\n",
    "               optimizer=tf.keras.optimizers.Adam(learning_rate=0.001),\n",
    "               metrics=[\"accuracy\"])\n",
    "\n",
    "#Show summary\n",
    "model.summary()"
   ]
  },
  {
   "cell_type": "markdown",
   "id": "c696940a",
   "metadata": {
    "papermill": {
     "duration": 0.037392,
     "end_time": "2022-04-22T11:38:32.792169",
     "exception": false,
     "start_time": "2022-04-22T11:38:32.754777",
     "status": "completed"
    },
    "tags": []
   },
   "source": [
    "## Fit the model"
   ]
  },
  {
   "cell_type": "code",
   "execution_count": 12,
   "id": "848a47f5",
   "metadata": {
    "execution": {
     "iopub.execute_input": "2022-04-22T11:38:32.868908Z",
     "iopub.status.busy": "2022-04-22T11:38:32.868336Z",
     "iopub.status.idle": "2022-04-22T11:43:02.343999Z",
     "shell.execute_reply": "2022-04-22T11:43:02.342922Z"
    },
    "papermill": {
     "duration": 269.518556,
     "end_time": "2022-04-22T11:43:02.347934",
     "exception": false,
     "start_time": "2022-04-22T11:38:32.829378",
     "status": "completed"
    },
    "tags": []
   },
   "outputs": [
    {
     "name": "stderr",
     "output_type": "stream",
     "text": [
      "2022-04-22 11:38:33.249223: I tensorflow/compiler/mlir/mlir_graph_optimization_pass.cc:185] None of the MLIR Optimization Passes are enabled (registered 2)\n"
     ]
    },
    {
     "name": "stdout",
     "output_type": "stream",
     "text": [
      "Epoch 1/15\n",
      "1563/1563 [==============================] - 18s 11ms/step - loss: 0.7142 - accuracy: 0.7338 - val_loss: 0.4988 - val_accuracy: 0.8190\n",
      "Epoch 2/15\n",
      "1563/1563 [==============================] - 18s 11ms/step - loss: 0.4739 - accuracy: 0.8310 - val_loss: 0.4361 - val_accuracy: 0.8382\n",
      "Epoch 3/15\n",
      "1563/1563 [==============================] - 17s 11ms/step - loss: 0.4059 - accuracy: 0.8536 - val_loss: 0.3963 - val_accuracy: 0.8593\n",
      "Epoch 4/15\n",
      "1563/1563 [==============================] - 17s 11ms/step - loss: 0.3694 - accuracy: 0.8667 - val_loss: 0.3602 - val_accuracy: 0.8674\n",
      "Epoch 5/15\n",
      "1563/1563 [==============================] - 17s 11ms/step - loss: 0.3447 - accuracy: 0.8769 - val_loss: 0.3433 - val_accuracy: 0.8767\n",
      "Epoch 6/15\n",
      "1563/1563 [==============================] - 17s 11ms/step - loss: 0.3277 - accuracy: 0.8818 - val_loss: 0.3365 - val_accuracy: 0.8783\n",
      "Epoch 7/15\n",
      "1563/1563 [==============================] - 18s 11ms/step - loss: 0.3099 - accuracy: 0.8878 - val_loss: 0.3280 - val_accuracy: 0.8799\n",
      "Epoch 8/15\n",
      "1563/1563 [==============================] - 17s 11ms/step - loss: 0.2968 - accuracy: 0.8930 - val_loss: 0.3180 - val_accuracy: 0.8851\n",
      "Epoch 9/15\n",
      "1563/1563 [==============================] - 18s 11ms/step - loss: 0.2865 - accuracy: 0.8953 - val_loss: 0.3071 - val_accuracy: 0.8894\n",
      "Epoch 10/15\n",
      "1563/1563 [==============================] - 17s 11ms/step - loss: 0.2788 - accuracy: 0.8987 - val_loss: 0.2899 - val_accuracy: 0.8954\n",
      "Epoch 11/15\n",
      "1563/1563 [==============================] - 18s 12ms/step - loss: 0.2682 - accuracy: 0.9015 - val_loss: 0.3243 - val_accuracy: 0.8836\n",
      "Epoch 12/15\n",
      "1563/1563 [==============================] - 17s 11ms/step - loss: 0.2623 - accuracy: 0.9049 - val_loss: 0.3007 - val_accuracy: 0.8934\n",
      "Epoch 13/15\n",
      "1563/1563 [==============================] - 21s 14ms/step - loss: 0.2526 - accuracy: 0.9075 - val_loss: 0.2879 - val_accuracy: 0.8975\n",
      "Epoch 14/15\n",
      "1563/1563 [==============================] - 20s 13ms/step - loss: 0.2475 - accuracy: 0.9093 - val_loss: 0.2999 - val_accuracy: 0.8895\n",
      "Epoch 15/15\n",
      "1563/1563 [==============================] - 18s 12ms/step - loss: 0.2422 - accuracy: 0.9101 - val_loss: 0.2781 - val_accuracy: 0.9013\n"
     ]
    }
   ],
   "source": [
    "#Fit the model\n",
    "history = model.fit(X_train, y_train,\n",
    "                    epochs=15,batch_size=32,\n",
    "                    validation_data=(X_valid,y_valid), verbose=1\n",
    "                    )"
   ]
  },
  {
   "cell_type": "markdown",
   "id": "a10c21f6",
   "metadata": {
    "papermill": {
     "duration": 1.684347,
     "end_time": "2022-04-22T11:43:05.786361",
     "exception": false,
     "start_time": "2022-04-22T11:43:04.102014",
     "status": "completed"
    },
    "tags": []
   },
   "source": [
    "## Train/Validation Results"
   ]
  },
  {
   "cell_type": "code",
   "execution_count": 13,
   "id": "c8d196c4",
   "metadata": {
    "execution": {
     "iopub.execute_input": "2022-04-22T11:43:09.153843Z",
     "iopub.status.busy": "2022-04-22T11:43:09.152808Z",
     "iopub.status.idle": "2022-04-22T11:43:09.452909Z",
     "shell.execute_reply": "2022-04-22T11:43:09.451921Z"
    },
    "papermill": {
     "duration": 1.982086,
     "end_time": "2022-04-22T11:43:09.455340",
     "exception": false,
     "start_time": "2022-04-22T11:43:07.473254",
     "status": "completed"
    },
    "tags": []
   },
   "outputs": [
    {
     "data": {
      "image/png": "[encoded data removed]",
      "text/plain": [
       "<Figure size 720x504 with 1 Axes>"
      ]
     },
     "metadata": {
      "needs_background": "light"
     },
     "output_type": "display_data"
    }
   ],
   "source": [
    "pd.DataFrame(history.history).plot(title=\"Train and validation results\",figsize=(10,7));"
   ]
  },
  {
   "cell_type": "markdown",
   "id": "67f4d70e",
   "metadata": {
    "papermill": {
     "duration": 1.746213,
     "end_time": "2022-04-22T11:43:12.989753",
     "exception": false,
     "start_time": "2022-04-22T11:43:11.243540",
     "status": "completed"
    },
    "tags": []
   },
   "source": [
    "# Evaluating model on test data"
   ]
  },
  {
   "cell_type": "code",
   "execution_count": 14,
   "id": "ee952c3f",
   "metadata": {
    "execution": {
     "iopub.execute_input": "2022-04-22T11:43:16.370205Z",
     "iopub.status.busy": "2022-04-22T11:43:16.369935Z",
     "iopub.status.idle": "2022-04-22T11:43:17.611291Z",
     "shell.execute_reply": "2022-04-22T11:43:17.609705Z"
    },
    "papermill": {
     "duration": 2.925659,
     "end_time": "2022-04-22T11:43:17.614370",
     "exception": false,
     "start_time": "2022-04-22T11:43:14.688711",
     "status": "completed"
    },
    "tags": []
   },
   "outputs": [
    {
     "name": "stdout",
     "output_type": "stream",
     "text": [
      "313/313 [==============================] - 1s 4ms/step - loss: 0.2692 - accuracy: 0.9028\n",
      "Test accuracy: 90.28000235557556 %\n"
     ]
    }
   ],
   "source": [
    "loss, accuracy = model.evaluate(test_norm, test_labels)\n",
    "print('Test accuracy:' , accuracy * 100,'%')"
   ]
  },
  {
   "cell_type": "markdown",
   "id": "c34d8508",
   "metadata": {
    "papermill": {
     "duration": 1.718809,
     "end_time": "2022-04-22T11:43:21.019829",
     "exception": false,
     "start_time": "2022-04-22T11:43:19.301020",
     "status": "completed"
    },
    "tags": []
   },
   "source": [
    "## Confusion matrix"
   ]
  },
  {
   "cell_type": "code",
   "execution_count": 15,
   "id": "7923f239",
   "metadata": {
    "execution": {
     "iopub.execute_input": "2022-04-22T11:43:24.467070Z",
     "iopub.status.busy": "2022-04-22T11:43:24.466519Z",
     "iopub.status.idle": "2022-04-22T11:43:25.607680Z",
     "shell.execute_reply": "2022-04-22T11:43:25.606750Z"
    },
    "papermill": {
     "duration": 2.833759,
     "end_time": "2022-04-22T11:43:25.610305",
     "exception": false,
     "start_time": "2022-04-22T11:43:22.776546",
     "status": "completed"
    },
    "tags": []
   },
   "outputs": [],
   "source": [
    "#Make predictions\n",
    "y_probs = model.predict(test_norm)\n",
    "\n",
    "#Convert prediction probabilities into integers\n",
    "y_preds = y_probs.argmax(axis=1)"
   ]
  },
  {
   "cell_type": "code",
   "execution_count": 16,
   "id": "8e7bb746",
   "metadata": {
    "execution": {
     "iopub.execute_input": "2022-04-22T11:43:29.012833Z",
     "iopub.status.busy": "2022-04-22T11:43:29.012567Z",
     "iopub.status.idle": "2022-04-22T11:43:29.720957Z",
     "shell.execute_reply": "2022-04-22T11:43:29.719959Z"
    },
    "papermill": {
     "duration": 2.406346,
     "end_time": "2022-04-22T11:43:29.723122",
     "exception": false,
     "start_time": "2022-04-22T11:43:27.316776",
     "status": "completed"
    },
    "tags": []
   },
   "outputs": [
    {
     "data": {
      "image/png": "[encoded data removed]",
      "text/plain": [
       "<Figure size 720x720 with 2 Axes>"
      ]
     },
     "metadata": {
      "needs_background": "light"
     },
     "output_type": "display_data"
    }
   ],
   "source": [
    "#Confusion matrix\n",
    "cm=confusion_matrix(y_preds,test_labels)\n",
    "#Plot\n",
    "disp=ConfusionMatrixDisplay(confusion_matrix=cm,display_labels=label_names)\n",
    "fig, ax = plt.subplots(figsize=(10,10))\n",
    "disp.plot(ax=ax);"
   ]
  },
  {
   "cell_type": "markdown",
   "id": "7a99b1b2",
   "metadata": {
    "papermill": {
     "duration": 1.777909,
     "end_time": "2022-04-22T11:43:33.210664",
     "exception": false,
     "start_time": "2022-04-22T11:43:31.432755",
     "status": "completed"
    },
    "tags": []
   },
   "source": [
    "The model is getting confused mostly between similar classes like Shirt and T-shirt/top or Coat and Pullover"
   ]
  },
  {
   "cell_type": "markdown",
   "id": "e12ac0ef",
   "metadata": {
    "papermill": {
     "duration": 1.703171,
     "end_time": "2022-04-22T11:43:36.618455",
     "exception": false,
     "start_time": "2022-04-22T11:43:34.915284",
     "status": "completed"
    },
    "tags": []
   },
   "source": [
    "## Visualizing random predictions"
   ]
  },
  {
   "cell_type": "code",
   "execution_count": 17,
   "id": "eb231ac0",
   "metadata": {
    "_kg_hide-input": true,
    "execution": {
     "iopub.execute_input": "2022-04-22T11:43:40.025040Z",
     "iopub.status.busy": "2022-04-22T11:43:40.024492Z",
     "iopub.status.idle": "2022-04-22T11:43:40.034246Z",
     "shell.execute_reply": "2022-04-22T11:43:40.033592Z"
    },
    "papermill": {
     "duration": 1.708088,
     "end_time": "2022-04-22T11:43:40.036601",
     "exception": false,
     "start_time": "2022-04-22T11:43:38.328513",
     "status": "completed"
    },
    "tags": []
   },
   "outputs": [],
   "source": [
    "import random\n",
    "def plot_random_image(model,images, true_labels, classes):\n",
    "\n",
    "    plt.figure(figsize=(10,15))\n",
    "\n",
    "    for i in range(12):\n",
    "        ax=plt.subplot(4,3,i+1)\n",
    "        rand_index=random.choice(range(len(images)))\n",
    "\n",
    "        #Make prediction\n",
    "        target_image=images[rand_index]\n",
    "        pred_probs=model.predict(tf.expand_dims(target_image,axis=0))\n",
    "        pred_label=classes[pred_probs.argmax()]\n",
    "        true_label= classes[true_labels[rand_index]]\n",
    "        plt.imshow(target_image,cmap=plt.cm.binary)\n",
    "        \n",
    "        #Change the color of the titles\n",
    "        if pred_label==true_label:\n",
    "            color=\"green\"\n",
    "        else:\n",
    "            color=\"red\"\n",
    "\n",
    "        plt.xlabel(\"Pred:{} {:2.0f}% \\n(True:{})\".format(pred_label,\n",
    "                                             100*tf.reduce_max(pred_probs),\n",
    "                                             true_label),\n",
    "                                             color=color, fontsize=13\n",
    "                                             )\n",
    "        #Hide ticks\n",
    "        plt.setp(ax.get_xticklabels(), visible=False)\n",
    "        plt.setp(ax.get_yticklabels(), visible=False)\n",
    "        ax.tick_params(axis='both', which='both', length=0)"
   ]
  },
  {
   "cell_type": "code",
   "execution_count": 18,
   "id": "227bec11",
   "metadata": {
    "execution": {
     "iopub.execute_input": "2022-04-22T11:43:43.550407Z",
     "iopub.status.busy": "2022-04-22T11:43:43.550141Z",
     "iopub.status.idle": "2022-04-22T11:43:45.926897Z",
     "shell.execute_reply": "2022-04-22T11:43:45.925825Z"
    },
    "papermill": {
     "duration": 4.097237,
     "end_time": "2022-04-22T11:43:45.929565",
     "exception": false,
     "start_time": "2022-04-22T11:43:41.832328",
     "status": "completed"
    },
    "tags": []
   },
   "outputs": [
    {
     "data": {
      "image/png": "[encoded data removed]",
      "text/plain": [
       "<Figure size 720x1080 with 12 Axes>"
      ]
     },
     "metadata": {},
     "output_type": "display_data"
    }
   ],
   "source": [
    "#Run to make random predictions\n",
    "plot_random_image(model,test_norm,test_labels,label_names)"
   ]
  }
 ],
 "metadata": {
  "kernelspec": {
   "display_name": "Python 3",
   "language": "python",
   "name": "python3"
  },
  "language_info": {
   "codemirror_mode": {
    "name": "ipython",
    "version": 3
   },
   "file_extension": ".py",
   "mimetype": "text/x-python",
   "name": "python",
   "nbconvert_exporter": "python",
   "pygments_lexer": "ipython3",
   "version": "3.7.12"
  },
  "papermill": {
   "default_parameters": {},
   "duration": 347.489371,
   "end_time": "2022-04-22T11:43:51.249446",
   "environment_variables": {},
   "exception": null,
   "input_path": "__notebook__.ipynb",
   "output_path": "__notebook__.ipynb",
   "parameters": {},
   "start_time": "2022-04-22T11:38:03.760075",
   "version": "2.3.4"
  }
 },
 "nbformat": 4,
 "nbformat_minor": 5
}
