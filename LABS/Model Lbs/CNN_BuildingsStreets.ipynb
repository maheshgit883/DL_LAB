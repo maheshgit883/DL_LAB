{
 "cells": [
  {
   "cell_type": "markdown",
   "id": "2be2cfe3",
   "metadata": {},
   "source": [
    "## 🔹 Mount Google Drive & Load Dataset"
   ]
  },
  {
   "cell_type": "code",
   "execution_count": null,
   "id": "ab9c4ca6",
   "metadata": {},
   "outputs": [],
   "source": [
    "from google.colab import drive\n",
    "drive.mount('/content/drive')"
   ]
  },
  {
   "cell_type": "markdown",
   "id": "b0dccaa1",
   "metadata": {},
   "source": [
    "## 🔹 Objective"
   ]
  },
  {
   "cell_type": "code",
   "execution_count": null,
   "id": "7bcb3419",
   "metadata": {},
   "outputs": [],
   "source": [
    "# Implement CNN on BUILDINGS vs STREET image dataset."
   ]
  },
  {
   "cell_type": "markdown",
   "id": "a264921d",
   "metadata": {},
   "source": [
    "## 🔹 Step 1: Import Libraries"
   ]
  },
  {
   "cell_type": "code",
   "execution_count": null,
   "id": "91b81a15",
   "metadata": {},
   "outputs": [],
   "source": [
    "import os\n",
    "import numpy as np\n",
    "import matplotlib.pyplot as plt\n",
    "import seaborn as sns\n",
    "import tensorflow as tf\n",
    "from tensorflow.keras.models import Sequential\n",
    "from tensorflow.keras.layers import Conv2D, MaxPooling2D, Flatten, Dense, Dropout, BatchNormalization, AveragePooling2D\n",
    "from tensorflow.keras.preprocessing.image import ImageDataGenerator\n",
    "from tensorflow.keras.optimizers import Adam\n",
    "from sklearn.metrics import classification_report, confusion_matrix"
   ]
  },
  {
   "cell_type": "markdown",
   "id": "c9d00eed",
   "metadata": {},
   "source": [
    "## 🔹 Step 2: Dataset Paths & Parameters"
   ]
  },
  {
   "cell_type": "code",
   "execution_count": null,
   "id": "32272004",
   "metadata": {},
   "outputs": [],
   "source": [
    "base_dir = '/content/drive/MyDrive/Assess-1-imageDataset'\n",
    "img_size = 128\n",
    "batch_size = 32\n",
    "categories = ['BUILDINGS', 'STREET']"
   ]
  },
  {
   "cell_type": "markdown",
   "id": "825aa760",
   "metadata": {},
   "source": [
    "## 🔹 Step 3: Data Generators (Train, Validation)"
   ]
  },
  {
   "cell_type": "code",
   "execution_count": null,
   "id": "b3a0179c",
   "metadata": {},
   "outputs": [],
   "source": [
    "datagen = ImageDataGenerator(rescale=1./255, validation_split=0.2)\n",
    "\n",
    "train_gen = datagen.flow_from_directory(base_dir, target_size=(img_size, img_size),\n",
    "                                        class_mode='binary', subset='training',\n",
    "                                        batch_size=batch_size, shuffle=True, seed=42)\n",
    "\n",
    "val_gen = datagen.flow_from_directory(base_dir, target_size=(img_size, img_size),\n",
    "                                      class_mode='binary', subset='validation',\n",
    "                                      batch_size=batch_size, shuffle=False, seed=42)"
   ]
  },
  {
   "cell_type": "markdown",
   "id": "9b14a13b",
   "metadata": {},
   "source": [
    "## 🔹 Step 4: Base Model"
   ]
  },
  {
   "cell_type": "code",
   "execution_count": null,
   "id": "4947e390",
   "metadata": {},
   "outputs": [],
   "source": [
    "def build_base_model():\n",
    "    model = Sequential([\n",
    "        Conv2D(32, (3,3), activation='relu', input_shape=(img_size, img_size, 3)),\n",
    "        MaxPooling2D(2,2),\n",
    "        Flatten(),\n",
    "        Dense(64, activation='relu'),\n",
    "        Dense(1, activation='sigmoid')\n",
    "    ])\n",
    "    model.compile(optimizer='adam', loss='binary_crossentropy', metrics=['accuracy'])\n",
    "    return model"
   ]
  },
  {
   "cell_type": "markdown",
   "id": "c5e2ecd7",
   "metadata": {},
   "source": [
    "## 🔹 Step 5: Improved Model"
   ]
  },
  {
   "cell_type": "code",
   "execution_count": null,
   "id": "d16f4f79",
   "metadata": {},
   "outputs": [],
   "source": [
    "def build_improved_model():\n",
    "    model = Sequential([\n",
    "        Conv2D(32, (3,3), activation='relu', padding='same', input_shape=(img_size, img_size, 3)),\n",
    "        BatchNormalization(),\n",
    "        MaxPooling2D(pool_size=(2,2)),\n",
    "\n",
    "        Conv2D(64, (3,3), activation='relu', strides=2, padding='valid'),\n",
    "        BatchNormalization(),\n",
    "        MaxPooling2D(pool_size=(2,2)),\n",
    "\n",
    "        Flatten(),\n",
    "        Dropout(0.4),\n",
    "        Dense(128, activation='relu'),\n",
    "        Dense(1, activation='sigmoid')\n",
    "    ])\n",
    "    model.compile(optimizer=Adam(learning_rate=0.0005), loss='binary_crossentropy', metrics=['accuracy'])\n",
    "    return model"
   ]
  },
  {
   "cell_type": "markdown",
   "id": "02631778",
   "metadata": {},
   "source": [
    "## 🔹 Step 6: Train Models"
   ]
  },
  {
   "cell_type": "code",
   "execution_count": null,
   "id": "ee7e0187",
   "metadata": {},
   "outputs": [],
   "source": [
    "from tensorflow.keras.callbacks import EarlyStopping\n",
    "es = EarlyStopping(monitor='val_loss', patience=3, restore_best_weights=True)\n",
    "\n",
    "model1 = build_base_model()\n",
    "history1 = model1.fit(train_gen, epochs=15, validation_data=val_gen, callbacks=[es], verbose=1)\n",
    "\n",
    "model2 = build_improved_model()\n",
    "history2 = model2.fit(train_gen, epochs=15, validation_data=val_gen, callbacks=[es], verbose=1)"
   ]
  },
  {
   "cell_type": "markdown",
   "id": "fd13f3fb",
   "metadata": {},
   "source": [
    "## 🔹 Step 7: Plot Accuracy and Loss"
   ]
  },
  {
   "cell_type": "code",
   "execution_count": null,
   "id": "6cd67cf2",
   "metadata": {},
   "outputs": [],
   "source": [
    "def plot_metrics(hist, label):\n",
    "    plt.plot(hist.history['val_accuracy'], label=f'{label} - Val Acc')\n",
    "    plt.plot(hist.history['val_loss'], label=f'{label} - Val Loss')\n",
    "\n",
    "plt.figure(figsize=(10,5))\n",
    "plot_metrics(history1, 'Base')\n",
    "plot_metrics(history2, 'Improved')\n",
    "plt.title('Validation Accuracy & Loss')\n",
    "plt.xlabel('Epochs')\n",
    "plt.ylabel('Value')\n",
    "plt.legend()\n",
    "plt.grid(True)\n",
    "plt.show()"
   ]
  },
  {
   "cell_type": "markdown",
   "id": "e3cf6424",
   "metadata": {},
   "source": [
    "## 🔹 Step 8: Performance Comparison"
   ]
  },
  {
   "cell_type": "code",
   "execution_count": null,
   "id": "549f646e",
   "metadata": {},
   "outputs": [],
   "source": [
    "val_gen.reset()\n",
    "y_true = val_gen.classes\n",
    "\n",
    "y_pred1 = (model1.predict(val_gen) > 0.5).astype('int32').flatten()\n",
    "y_pred2 = (model2.predict(val_gen) > 0.5).astype('int32').flatten()\n",
    "\n",
    "print(\"🔸 Base Model Report:\")\n",
    "print(classification_report(y_true, y_pred1, target_names=categories))\n",
    "\n",
    "print(\"🔸 Improved Model Report:\")\n",
    "print(classification_report(y_true, y_pred2, target_names=categories))\n",
    "\n",
    "plt.figure(figsize=(12,5))\n",
    "plt.subplot(1,2,1)\n",
    "sns.heatmap(confusion_matrix(y_true, y_pred1), annot=True, fmt='d', cmap='Blues')\n",
    "plt.title(\"Base Model Confusion Matrix\")\n",
    "plt.xlabel(\"Predicted\")\n",
    "plt.ylabel(\"Actual\")\n",
    "\n",
    "plt.subplot(1,2,2)\n",
    "sns.heatmap(confusion_matrix(y_true, y_pred2), annot=True, fmt='d', cmap='Greens')\n",
    "plt.title(\"Improved Model Confusion Matrix\")\n",
    "plt.xlabel(\"Predicted\")\n",
    "plt.ylabel(\"Actual\")\n",
    "plt.show()"
   ]
  }
 ],
 "metadata": {},
 "nbformat": 4,
 "nbformat_minor": 5
}
