{
  "nbformat": 4,
  "nbformat_minor": 0,
  "metadata": {
    "colab": {
      "provenance": [],
      "gpuType": "T4"
    },
    "kernelspec": {
      "name": "python3",
      "display_name": "Python 3"
    },
    "language_info": {
      "name": "python"
    },
    "accelerator": "GPU"
  },
  "cells": [
    {
      "cell_type": "markdown",
      "source": [
        "PART A\n",
        "\n",
        "Implementation of Sequence models\n",
        "Use simple LSTM to perform sentiment analysis using IMDB dataset\n",
        "Design your custom architecture by adding additional layers, LSTM units, changing the parameters, applying dropouts etc. Fine tune the model and elaborate the procedure with its performance in the conclusion\n",
        "\n",
        "\n",
        "Part -B\n",
        "\n",
        "Extend it with another dataset of your choice, to Bidirectional LSTM, GRU and BGRU. Analyse the performance of LSTM, BLSTM, GRU, BGRU and tabulate the results in terms of Precision, Recall and F1, with necessary plots and inference"
      ],
      "metadata": {
        "id": "FU6EQ35sVkei"
      }
    },
    {
      "cell_type": "markdown",
      "source": [
        "OBJECTIVE:To implement a sequence model using a simple LSTM for sentiment analysis on the IMDB dataset. Additionally, to design and fine-tune a custom LSTM architecture by adding layers, adjusting parameters, and applying regularization techniques"
      ],
      "metadata": {
        "id": "ETCpOxQfWcL-"
      }
    },
    {
      "cell_type": "markdown",
      "source": [
        "IMDB Dataset Description:\n",
        "\n",
        "The IMDB (Internet Movie Database) dataset is a widely used dataset for sentiment analysis. It contains:\n",
        "\n",
        "50,000 movie reviews\n",
        "\n",
        "25,000 reviews for training\n",
        "\n",
        "25,000 reviews for testing\n",
        "\n",
        "Each review is labeled as positive (1) or negative (0).\n",
        "\n",
        "The reviews are preprocessed and encoded as integers, where each integer represents a specific word in the dataset's vocabulary."
      ],
      "metadata": {
        "id": "gvztMsIoW1Ho"
      }
    },
    {
      "cell_type": "code",
      "source": [
        "import numpy as np\n",
        "import tensorflow as tf\n",
        "from tensorflow import keras\n",
        "from tensorflow.keras import layers\n",
        "from tensorflow.keras import regularizers\n",
        "from tensorflow.keras.datasets import imdb\n",
        "import matplotlib.pyplot as plt"
      ],
      "metadata": {
        "id": "p-I_j239v2MU"
      },
      "execution_count": null,
      "outputs": []
    },
    {
      "cell_type": "code",
      "source": [
        "# Load IMDB dataset\n",
        "vocab_size = 10000\n",
        "(x_train, y_train), (x_test, y_test) = imdb.load_data(num_words=vocab_size)\n",
        "\n",
        "print(f'Training samples: {len(x_train)}')\n",
        "print(f'Testing samples: {len(x_test)}')"
      ],
      "metadata": {
        "colab": {
          "base_uri": "https://localhost:8080/"
        },
        "id": "Wg_BnCCO365o",
        "outputId": "0c94b80a-1a7a-47be-878c-628c671e0509"
      },
      "execution_count": null,
      "outputs": [
        {
          "output_type": "stream",
          "name": "stdout",
          "text": [
            "Training samples: 25000\n",
            "Testing samples: 25000\n"
          ]
        }
      ]
    },
    {
      "cell_type": "code",
      "source": [
        "# Show a sample review (converted from integer encoding to words)\n",
        "word_index = imdb.get_word_index()\n",
        "reverse_word_index = {value: key for (key, value) in word_index.items()}\n",
        "\n",
        "print(\"Sample review (integer encoded):\", x_train[0])\n",
        "print(\"Sample review (decoded):\", ' '.join([reverse_word_index.get(i - 3, '?') for i in x_train[0]]))\n"
      ],
      "metadata": {
        "colab": {
          "base_uri": "https://localhost:8080/"
        },
        "id": "2SKyHV0C46fD",
        "outputId": "21fa74a2-4304-4b22-8825-c5b0072c5afd"
      },
      "execution_count": null,
      "outputs": [
        {
          "output_type": "stream",
          "name": "stdout",
          "text": [
            "Sample review (integer encoded): [1, 14, 22, 16, 43, 530, 973, 1622, 1385, 65, 458, 4468, 66, 3941, 4, 173, 36, 256, 5, 25, 100, 43, 838, 112, 50, 670, 2, 9, 35, 480, 284, 5, 150, 4, 172, 112, 167, 2, 336, 385, 39, 4, 172, 4536, 1111, 17, 546, 38, 13, 447, 4, 192, 50, 16, 6, 147, 2025, 19, 14, 22, 4, 1920, 4613, 469, 4, 22, 71, 87, 12, 16, 43, 530, 38, 76, 15, 13, 1247, 4, 22, 17, 515, 17, 12, 16, 626, 18, 2, 5, 62, 386, 12, 8, 316, 8, 106, 5, 4, 2223, 5244, 16, 480, 66, 3785, 33, 4, 130, 12, 16, 38, 619, 5, 25, 124, 51, 36, 135, 48, 25, 1415, 33, 6, 22, 12, 215, 28, 77, 52, 5, 14, 407, 16, 82, 2, 8, 4, 107, 117, 5952, 15, 256, 4, 2, 7, 3766, 5, 723, 36, 71, 43, 530, 476, 26, 400, 317, 46, 7, 4, 2, 1029, 13, 104, 88, 4, 381, 15, 297, 98, 32, 2071, 56, 26, 141, 6, 194, 7486, 18, 4, 226, 22, 21, 134, 476, 26, 480, 5, 144, 30, 5535, 18, 51, 36, 28, 224, 92, 25, 104, 4, 226, 65, 16, 38, 1334, 88, 12, 16, 283, 5, 16, 4472, 113, 103, 32, 15, 16, 5345, 19, 178, 32]\n",
            "Sample review (decoded): ? this film was just brilliant casting location scenery story direction everyone's really suited the part they played and you could just imagine being there robert ? is an amazing actor and now the same being director ? father came from the same scottish island as myself so i loved the fact there was a real connection with this film the witty remarks throughout the film were great it was just brilliant so much that i bought the film as soon as it was released for ? and would recommend it to everyone to watch and the fly fishing was amazing really cried at the end it was so sad and you know what they say if you cry at a film it must have been good and this definitely was also ? to the two little boy's that played the ? of norman and paul they were just brilliant children are often left out of the ? list i think because the stars that play them all grown up are such a big profile for the whole film but these children are amazing and should be praised for what they have done don't you think the whole story was so lovely because it was true and was someone's life after all that was shared with us all\n"
          ]
        }
      ]
    },
    {
      "cell_type": "code",
      "source": [
        "# Pad sequences to ensure uniform input size\n",
        "max_len = 200\n",
        "x_train = keras.preprocessing.sequence.pad_sequences(x_train, maxlen=max_len)\n",
        "x_test = keras.preprocessing.sequence.pad_sequences(x_test, maxlen=max_len)"
      ],
      "metadata": {
        "id": "DepxPGnq5D8x"
      },
      "execution_count": null,
      "outputs": []
    },
    {
      "cell_type": "code",
      "source": [
        "# Build Custom LSTM Model (Before Tuning)\n",
        "model_before = keras.Sequential([\n",
        "    layers.Embedding(input_dim=vocab_size, output_dim=128, input_length=max_len),\n",
        "    layers.LSTM(64),\n",
        "    layers.Dense(1, activation='sigmoid')\n",
        "])\n"
      ],
      "metadata": {
        "id": "m2NknkEw5Ggk"
      },
      "execution_count": null,
      "outputs": []
    },
    {
      "cell_type": "code",
      "source": [
        "# Compile model\n",
        "model_before.compile(loss='binary_crossentropy', optimizer='adam', metrics=['accuracy'])"
      ],
      "metadata": {
        "id": "jixokA645Lo0"
      },
      "execution_count": null,
      "outputs": []
    },
    {
      "cell_type": "code",
      "source": [
        "# Train model\n",
        "history_before = model_before.fit(x_train, y_train, epochs=5, batch_size=64, validation_data=(x_test, y_test))"
      ],
      "metadata": {
        "colab": {
          "base_uri": "https://localhost:8080/"
        },
        "id": "92QGpIVC5Rrb",
        "outputId": "e5ba8e6e-d97b-4498-9484-924d5dad7aeb"
      },
      "execution_count": null,
      "outputs": [
        {
          "output_type": "stream",
          "name": "stdout",
          "text": [
            "Epoch 1/5\n",
            "\u001b[1m391/391\u001b[0m \u001b[32m━━━━━━━━━━━━━━━━━━━━\u001b[0m\u001b[37m\u001b[0m \u001b[1m8s\u001b[0m 16ms/step - accuracy: 0.7066 - loss: 0.5402 - val_accuracy: 0.8709 - val_loss: 0.3199\n",
            "Epoch 2/5\n",
            "\u001b[1m391/391\u001b[0m \u001b[32m━━━━━━━━━━━━━━━━━━━━\u001b[0m\u001b[37m\u001b[0m \u001b[1m7s\u001b[0m 18ms/step - accuracy: 0.9010 - loss: 0.2527 - val_accuracy: 0.8656 - val_loss: 0.3165\n",
            "Epoch 3/5\n",
            "\u001b[1m391/391\u001b[0m \u001b[32m━━━━━━━━━━━━━━━━━━━━\u001b[0m\u001b[37m\u001b[0m \u001b[1m6s\u001b[0m 16ms/step - accuracy: 0.9330 - loss: 0.1824 - val_accuracy: 0.8611 - val_loss: 0.3443\n",
            "Epoch 4/5\n",
            "\u001b[1m391/391\u001b[0m \u001b[32m━━━━━━━━━━━━━━━━━━━━\u001b[0m\u001b[37m\u001b[0m \u001b[1m11s\u001b[0m 17ms/step - accuracy: 0.9470 - loss: 0.1432 - val_accuracy: 0.8676 - val_loss: 0.3644\n",
            "Epoch 5/5\n",
            "\u001b[1m391/391\u001b[0m \u001b[32m━━━━━━━━━━━━━━━━━━━━\u001b[0m\u001b[37m\u001b[0m \u001b[1m10s\u001b[0m 17ms/step - accuracy: 0.9630 - loss: 0.1039 - val_accuracy: 0.8580 - val_loss: 0.4678\n"
          ]
        }
      ]
    },
    {
      "cell_type": "code",
      "source": [
        "# Evaluate model\n",
        "loss_before, accuracy_before = model_before.evaluate(x_test, y_test)\n",
        "print(f'Before Tuning - Test Accuracy: {accuracy_before * 100:.2f}%')"
      ],
      "metadata": {
        "colab": {
          "base_uri": "https://localhost:8080/"
        },
        "id": "g4EaMako9kwf",
        "outputId": "b40890a1-d955-4b65-c633-06490b2adf63"
      },
      "execution_count": null,
      "outputs": [
        {
          "output_type": "stream",
          "name": "stdout",
          "text": [
            "\u001b[1m782/782\u001b[0m \u001b[32m━━━━━━━━━━━━━━━━━━━━\u001b[0m\u001b[37m\u001b[0m \u001b[1m4s\u001b[0m 5ms/step - accuracy: 0.8580 - loss: 0.4776\n",
            "Before Tuning - Test Accuracy: 85.80%\n"
          ]
        }
      ]
    },
    {
      "cell_type": "code",
      "source": [
        "# Display a few predictions\n",
        "predictions = (model_before.predict(x_test[:10]) > 0.5).astype('int32')\n",
        "for i in range(10):\n",
        "    print(f\"Review {i+1}: {'Positive' if predictions[i] == 1 else 'Negative'} (Actual: {'Positive' if y_test[i] == 1 else 'Negative'})\")\n"
      ],
      "metadata": {
        "colab": {
          "base_uri": "https://localhost:8080/"
        },
        "id": "kSihwZ105hCe",
        "outputId": "784cb9c9-f7c4-44e8-9edf-0861597d49da"
      },
      "execution_count": null,
      "outputs": [
        {
          "output_type": "stream",
          "name": "stdout",
          "text": [
            "\u001b[1m1/1\u001b[0m \u001b[32m━━━━━━━━━━━━━━━━━━━━\u001b[0m\u001b[37m\u001b[0m \u001b[1m0s\u001b[0m 115ms/step\n",
            "Review 1: Negative (Actual: Negative)\n",
            "Review 2: Positive (Actual: Positive)\n",
            "Review 3: Positive (Actual: Positive)\n",
            "Review 4: Positive (Actual: Negative)\n",
            "Review 5: Positive (Actual: Positive)\n",
            "Review 6: Positive (Actual: Positive)\n",
            "Review 7: Positive (Actual: Positive)\n",
            "Review 8: Negative (Actual: Negative)\n",
            "Review 9: Positive (Actual: Negative)\n",
            "Review 10: Positive (Actual: Positive)\n"
          ]
        }
      ]
    },
    {
      "cell_type": "code",
      "source": [
        "# Build Custom LSTM Model (After Tuning)\n",
        "model_after = keras.Sequential([\n",
        "    layers.Embedding(input_dim=vocab_size, output_dim=128, input_length=max_len),\n",
        "    layers.LSTM(128, return_sequences=True, kernel_regularizer=regularizers.l2(0.01)),\n",
        "    layers.Dropout(0.4),\n",
        "    layers.LSTM(64, return_sequences=True, kernel_regularizer=regularizers.l2(0.01)),\n",
        "    layers.Dropout(0.4),\n",
        "    layers.LSTM(32, kernel_regularizer=regularizers.l2(0.01)),\n",
        "    layers.Dense(64, activation='relu'),\n",
        "    layers.Dropout(0.3),\n",
        "    layers.Dense(1, activation='sigmoid')\n",
        "])\n"
      ],
      "metadata": {
        "colab": {
          "base_uri": "https://localhost:8080/"
        },
        "id": "QdyxTf1_5l1e",
        "outputId": "3aa4587d-6c35-4175-db0d-6ca95d605903"
      },
      "execution_count": null,
      "outputs": [
        {
          "output_type": "stream",
          "name": "stderr",
          "text": [
            "/usr/local/lib/python3.11/dist-packages/keras/src/layers/core/embedding.py:90: UserWarning: Argument `input_length` is deprecated. Just remove it.\n",
            "  warnings.warn(\n"
          ]
        }
      ]
    },
    {
      "cell_type": "code",
      "source": [
        "# Compile model\n",
        "model_after.compile(loss='binary_crossentropy', optimizer=keras.optimizers.Adam(learning_rate=0.0005), metrics=['accuracy'])\n"
      ],
      "metadata": {
        "id": "zilX9wYd-OtB"
      },
      "execution_count": null,
      "outputs": []
    },
    {
      "cell_type": "code",
      "source": [
        "# Train model\n",
        "history_after = model_after.fit(x_train, y_train, epochs=10, batch_size=128, validation_data=(x_test, y_test))\n",
        "\n",
        "# Evaluate model\n",
        "loss_after, accuracy_after = model_after.evaluate(x_test, y_test)\n",
        "print(f'After Tuning - Test Accuracy: {accuracy_after * 100:.2f}%')"
      ],
      "metadata": {
        "colab": {
          "base_uri": "https://localhost:8080/"
        },
        "id": "08x2qdEW-Rfy",
        "outputId": "2bb39803-316f-4d0c-8e9f-8ebc45bd4149"
      },
      "execution_count": null,
      "outputs": [
        {
          "output_type": "stream",
          "name": "stdout",
          "text": [
            "Epoch 1/10\n",
            "\u001b[1m196/196\u001b[0m \u001b[32m━━━━━━━━━━━━━━━━━━━━\u001b[0m\u001b[37m\u001b[0m \u001b[1m13s\u001b[0m 47ms/step - accuracy: 0.6252 - loss: 3.3593 - val_accuracy: 0.8380 - val_loss: 0.7234\n",
            "Epoch 2/10\n",
            "\u001b[1m196/196\u001b[0m \u001b[32m━━━━━━━━━━━━━━━━━━━━\u001b[0m\u001b[37m\u001b[0m \u001b[1m9s\u001b[0m 42ms/step - accuracy: 0.8846 - loss: 0.5221 - val_accuracy: 0.8572 - val_loss: 0.3844\n",
            "Epoch 3/10\n",
            "\u001b[1m196/196\u001b[0m \u001b[32m━━━━━━━━━━━━━━━━━━━━\u001b[0m\u001b[37m\u001b[0m \u001b[1m9s\u001b[0m 45ms/step - accuracy: 0.9169 - loss: 0.2711 - val_accuracy: 0.8502 - val_loss: 0.3810\n",
            "Epoch 4/10\n",
            "\u001b[1m196/196\u001b[0m \u001b[32m━━━━━━━━━━━━━━━━━━━━\u001b[0m\u001b[37m\u001b[0m \u001b[1m10s\u001b[0m 46ms/step - accuracy: 0.9285 - loss: 0.2220 - val_accuracy: 0.8479 - val_loss: 0.4411\n",
            "Epoch 5/10\n",
            "\u001b[1m196/196\u001b[0m \u001b[32m━━━━━━━━━━━━━━━━━━━━\u001b[0m\u001b[37m\u001b[0m \u001b[1m9s\u001b[0m 43ms/step - accuracy: 0.9389 - loss: 0.1964 - val_accuracy: 0.8477 - val_loss: 0.3997\n",
            "Epoch 6/10\n",
            "\u001b[1m196/196\u001b[0m \u001b[32m━━━━━━━━━━━━━━━━━━━━\u001b[0m\u001b[37m\u001b[0m \u001b[1m9s\u001b[0m 44ms/step - accuracy: 0.9512 - loss: 0.1662 - val_accuracy: 0.8456 - val_loss: 0.4267\n",
            "Epoch 7/10\n",
            "\u001b[1m196/196\u001b[0m \u001b[32m━━━━━━━━━━━━━━━━━━━━\u001b[0m\u001b[37m\u001b[0m \u001b[1m11s\u001b[0m 46ms/step - accuracy: 0.9537 - loss: 0.1572 - val_accuracy: 0.8343 - val_loss: 0.4451\n",
            "Epoch 8/10\n",
            "\u001b[1m196/196\u001b[0m \u001b[32m━━━━━━━━━━━━━━━━━━━━\u001b[0m\u001b[37m\u001b[0m \u001b[1m10s\u001b[0m 47ms/step - accuracy: 0.9552 - loss: 0.1497 - val_accuracy: 0.8349 - val_loss: 0.5210\n",
            "Epoch 9/10\n",
            "\u001b[1m196/196\u001b[0m \u001b[32m━━━━━━━━━━━━━━━━━━━━\u001b[0m\u001b[37m\u001b[0m \u001b[1m9s\u001b[0m 47ms/step - accuracy: 0.9660 - loss: 0.1251 - val_accuracy: 0.8367 - val_loss: 0.5299\n",
            "Epoch 10/10\n",
            "\u001b[1m196/196\u001b[0m \u001b[32m━━━━━━━━━━━━━━━━━━━━\u001b[0m\u001b[37m\u001b[0m \u001b[1m9s\u001b[0m 44ms/step - accuracy: 0.9659 - loss: 0.1251 - val_accuracy: 0.8122 - val_loss: 0.6002\n",
            "\u001b[1m782/782\u001b[0m \u001b[32m━━━━━━━━━━━━━━━━━━━━\u001b[0m\u001b[37m\u001b[0m \u001b[1m7s\u001b[0m 10ms/step - accuracy: 0.8174 - loss: 0.5863\n",
            "After Tuning - Test Accuracy: 81.22%\n"
          ]
        }
      ]
    },
    {
      "cell_type": "code",
      "source": [
        "# Plot comparison\n",
        "plt.figure(figsize=(12, 5))\n",
        "\n",
        "# Accuracy comparison\n",
        "plt.subplot(1, 2, 1)\n",
        "plt.plot(history_before.history['accuracy'], label='Train Accuracy (Before)')\n",
        "plt.plot(history_before.history['val_accuracy'], label='Validation Accuracy (Before)')\n",
        "plt.plot(history_after.history['accuracy'], label='Train Accuracy (After)')\n",
        "plt.plot(history_after.history['val_accuracy'], label='Validation Accuracy (After)')\n",
        "plt.xlabel('Epochs')\n",
        "plt.ylabel('Accuracy')\n",
        "plt.legend()\n",
        "\n",
        "# Loss comparison\n",
        "plt.subplot(1, 2, 2)\n",
        "plt.plot(history_before.history['loss'], label='Train Loss (Before)')\n",
        "plt.plot(history_before.history['val_loss'], label='Validation Loss (Before)')\n",
        "plt.plot(history_after.history['loss'], label='Train Loss (After)')\n",
        "plt.plot(history_after.history['val_loss'], label='Validation Loss (After)')\n",
        "plt.xlabel('Epochs')\n",
        "plt.ylabel('Loss')\n",
        "plt.legend()\n",
        "\n",
        "plt.show()\n",
        "\n",
        "# Conclusion\n",
        "print(\"\\nConclusion:\")\n",
        "print(f\"Before Tuning - Final Test Accuracy: {accuracy_before * 100:.2f}%\")\n",
        "print(f\"After Tuning - Final Test Accuracy: {accuracy_after * 100:.2f}%\")"
      ],
      "metadata": {
        "colab": {
          "base_uri": "https://localhost:8080/",
          "height": 534
        },
        "id": "SY07PZc7-YNX",
        "outputId": "6b2cde60-4250-45a5-acf6-d20e939c328d"
      },
      "execution_count": null,
      "outputs": [
        {
          "output_type": "display_data",
          "data": {
            "text/plain": [
              "<Figure size 1200x500 with 2 Axes>"
            ],
            "image/png": "[encoded data removed]"
          },
          "metadata": {}
        },
        {
          "output_type": "stream",
          "name": "stdout",
          "text": [
            "\n",
            "Conclusion:\n",
            "Before Tuning - Final Test Accuracy: 85.80%\n",
            "After Tuning - Final Test Accuracy: 81.22%\n"
          ]
        }
      ]
    },
    {
      "cell_type": "markdown",
      "source": [
        "**Conclusion**:\n",
        "\n",
        "Despite the tuning, the accuracy dropped. which shows tuning doesn't always gives better accuracy. Further adjustments, such as reducing the number of LSTM layers, lowering dropout rates, or increasing regularization, may help improve performance."
      ],
      "metadata": {
        "id": "ZkQY5bXwALr3"
      }
    },
    {
      "cell_type": "markdown",
      "source": [
        "**PART B** :\n",
        "\n",
        "\n",
        "Extend it with another dataset of your choice, to Bidirectional LSTM, GRU and BGRU. Analyse the performance of LSTM, BLSTM, GRU, BGRU and tabulate the results in terms of Precision, Recall and F1, with necessary plots and inference"
      ],
      "metadata": {
        "id": "D-VbJurUdvWe"
      }
    },
    {
      "cell_type": "code",
      "source": [
        "import numpy as np\n",
        "import tensorflow as tf\n",
        "from tensorflow import keras\n",
        "from tensorflow.keras import layers\n",
        "from tensorflow.keras import regularizers\n",
        "import matplotlib.pyplot as plt\n",
        "from sklearn.metrics import classification_report\n",
        "import pandas as pd\n",
        "import seaborn as sns\n",
        "import zipfile\n",
        "import os\n"
      ],
      "metadata": {
        "id": "0bfnz22MZWes"
      },
      "execution_count": null,
      "outputs": []
    },
    {
      "cell_type": "markdown",
      "source": [
        "Objective:\n",
        "The objective of this project is to perform sentiment analysis using various sequence models (LSTM, BLSTM, GRU, and BGRU) on the SMS Spam Collection dataset. The goal is to classify SMS messages as either spam or ham (non-spam) using deep learning models, compare their performance using metrics such as Precision, Recall, and F1-Score."
      ],
      "metadata": {
        "id": "Z6JyUXs_dkGE"
      }
    },
    {
      "cell_type": "markdown",
      "source": [
        "Dataset Details:\n",
        "\n",
        "SMS Spam Collection Dataset from the UCI Machine Learning Repository. It contains 5,574 SMS messages labeled as ham (non-spam) or spam.\n",
        "\n",
        "Dataset Details:\n",
        "Total Messages: 5,574\n",
        "\n",
        "Ham (Non-Spam) Messages: 4,827 (Approx. 86.6%)\n",
        "\n",
        "Spam Messages: 747 (Approx. 13.4%)\n",
        "\n",
        "File Format: Plain text file (SMSSpamCollection)\n",
        "\n",
        "Labeling:\n",
        "\n",
        "\"ham\" for non-spam messages\n",
        "\n",
        "\"spam\" for spam messages"
      ],
      "metadata": {
        "id": "Fp4T5eaAdWlW"
      }
    },
    {
      "cell_type": "code",
      "source": [
        "# Download and extract the SMS Spam Collection dataset\n",
        "dataset_url = 'https://archive.ics.uci.edu/ml/machine-learning-databases/00228/smsspamcollection.zip'\n",
        "zip_path = keras.utils.get_file('smsspamcollection.zip', dataset_url)\n",
        "extract_dir = os.path.splitext(zip_path)[0]\n",
        "\n",
        "# Extract only if not already extracted\n",
        "if not os.path.exists(extract_dir):\n",
        "    with zipfile.ZipFile(zip_path, 'r') as zip_ref:\n",
        "        zip_ref.extractall(extract_dir)\n",
        "\n",
        "# Read the actual data\n",
        "data_path = os.path.join(extract_dir, 'SMSSpamCollection')\n",
        "sms_data = pd.read_csv(data_path, sep='\\t', header=None, names=['label', 'text'])"
      ],
      "metadata": {
        "id": "GmGAtDuRZbze"
      },
      "execution_count": null,
      "outputs": []
    },
    {
      "cell_type": "code",
      "source": [
        "# Encode labels (ham = 0, spam = 1)\n",
        "sms_data['label'] = sms_data['label'].map({'ham': 0, 'spam': 1})"
      ],
      "metadata": {
        "id": "oQ5p-jZHZfck"
      },
      "execution_count": null,
      "outputs": []
    },
    {
      "cell_type": "code",
      "source": [
        "# Tokenization and Padding\n",
        "vocab_size = 10000\n",
        "max_len = 200\n",
        "tokenizer = keras.preprocessing.text.Tokenizer(num_words=vocab_size)\n",
        "tokenizer.fit_on_texts(sms_data['text'])\n",
        "\n",
        "x_data = tokenizer.texts_to_sequences(sms_data['text'])\n",
        "x_data = keras.preprocessing.sequence.pad_sequences(x_data, maxlen=max_len)\n",
        "y_data = sms_data['label'].values"
      ],
      "metadata": {
        "id": "N-Apnv4GZmzB"
      },
      "execution_count": null,
      "outputs": []
    },
    {
      "cell_type": "code",
      "source": [
        "# Split data into training and test sets\n",
        "from sklearn.model_selection import train_test_split\n",
        "x_train, x_test, y_train, y_test = train_test_split(x_data, y_data, test_size=0.2, random_state=42)\n"
      ],
      "metadata": {
        "id": "WmA2ZGS0ZqZ5"
      },
      "execution_count": null,
      "outputs": []
    },
    {
      "cell_type": "code",
      "source": [
        "def build_model(layer_type, bidirectional=False):\n",
        "    model = keras.Sequential([\n",
        "        layers.Embedding(input_dim=vocab_size, output_dim=128, input_length=max_len),\n",
        "        layers.Bidirectional(layer_type(64)) if bidirectional else layer_type(64),\n",
        "        layers.Dense(64, activation='relu'),\n",
        "        layers.Dropout(0.3),\n",
        "        layers.Dense(1, activation='sigmoid')\n",
        "    ])\n",
        "    model.compile(loss='binary_crossentropy', optimizer='adam', metrics=['accuracy'])\n",
        "    return model"
      ],
      "metadata": {
        "id": "BC93Cb-dZtme"
      },
      "execution_count": null,
      "outputs": []
    },
    {
      "cell_type": "code",
      "source": [
        "# Model definitions\n",
        "models = {\n",
        "    'LSTM': build_model(layers.LSTM),\n",
        "    'BLSTM': build_model(layers.LSTM, bidirectional=True),\n",
        "    'GRU': build_model(layers.GRU),\n",
        "    'BGRU': build_model(layers.GRU, bidirectional=True)\n",
        "}"
      ],
      "metadata": {
        "colab": {
          "base_uri": "https://localhost:8080/"
        },
        "id": "NxSJGr8OZwvj",
        "outputId": "74bb7222-4e74-4ff5-b2d5-e7af2ab004c8"
      },
      "execution_count": null,
      "outputs": [
        {
          "output_type": "stream",
          "name": "stderr",
          "text": [
            "/usr/local/lib/python3.11/dist-packages/keras/src/layers/core/embedding.py:90: UserWarning: Argument `input_length` is deprecated. Just remove it.\n",
            "  warnings.warn(\n"
          ]
        }
      ]
    },
    {
      "cell_type": "code",
      "source": [
        "# Training and evaluation\n",
        "results = {}\n",
        "for name, model in models.items():\n",
        "    print(f\"Training {name}...\")\n",
        "    history = model.fit(x_train, y_train, epochs=5, batch_size=128, validation_data=(x_test, y_test))\n",
        "    loss, accuracy = model.evaluate(x_test, y_test)\n",
        "    y_pred = (model.predict(x_test) > 0.5).astype('int32')\n",
        "    report = classification_report(y_test, y_pred, output_dict=True)\n",
        "    results[name] = report\n",
        "    print(f\"{name} - Test Accuracy: {accuracy * 100:.2f}%\")\n",
        "    print(f\"\\n{name} Classification Report:\")\n",
        "    print(classification_report(y_test, y_pred, target_names=['Ham', 'Spam']))"
      ],
      "metadata": {
        "colab": {
          "base_uri": "https://localhost:8080/"
        },
        "id": "64g2C7V9Zz_x",
        "outputId": "1efdea8e-70e5-403c-b0e7-bb9bc0a03a26"
      },
      "execution_count": null,
      "outputs": [
        {
          "output_type": "stream",
          "name": "stdout",
          "text": [
            "Training LSTM...\n",
            "Epoch 1/5\n",
            "\u001b[1m35/35\u001b[0m \u001b[32m━━━━━━━━━━━━━━━━━━━━\u001b[0m\u001b[37m\u001b[0m \u001b[1m1s\u001b[0m 32ms/step - accuracy: 0.9994 - loss: 0.0027 - val_accuracy: 0.9928 - val_loss: 0.0388\n",
            "Epoch 2/5\n",
            "\u001b[1m35/35\u001b[0m \u001b[32m━━━━━━━━━━━━━━━━━━━━\u001b[0m\u001b[37m\u001b[0m \u001b[1m1s\u001b[0m 34ms/step - accuracy: 0.9996 - loss: 0.0017 - val_accuracy: 0.9919 - val_loss: 0.0376\n",
            "Epoch 3/5\n",
            "\u001b[1m35/35\u001b[0m \u001b[32m━━━━━━━━━━━━━━━━━━━━\u001b[0m\u001b[37m\u001b[0m \u001b[1m2s\u001b[0m 45ms/step - accuracy: 0.9996 - loss: 7.3084e-04 - val_accuracy: 0.9937 - val_loss: 0.0393\n",
            "Epoch 4/5\n",
            "\u001b[1m35/35\u001b[0m \u001b[32m━━━━━━━━━━━━━━━━━━━━\u001b[0m\u001b[37m\u001b[0m \u001b[1m1s\u001b[0m 31ms/step - accuracy: 1.0000 - loss: 2.7129e-04 - val_accuracy: 0.9928 - val_loss: 0.0420\n",
            "Epoch 5/5\n",
            "\u001b[1m35/35\u001b[0m \u001b[32m━━━━━━━━━━━━━━━━━━━━\u001b[0m\u001b[37m\u001b[0m \u001b[1m1s\u001b[0m 17ms/step - accuracy: 1.0000 - loss: 1.6495e-04 - val_accuracy: 0.9928 - val_loss: 0.0424\n",
            "\u001b[1m35/35\u001b[0m \u001b[32m━━━━━━━━━━━━━━━━━━━━\u001b[0m\u001b[37m\u001b[0m \u001b[1m0s\u001b[0m 5ms/step - accuracy: 0.9925 - loss: 0.0510\n",
            "\u001b[1m35/35\u001b[0m \u001b[32m━━━━━━━━━━━━━━━━━━━━\u001b[0m\u001b[37m\u001b[0m \u001b[1m0s\u001b[0m 4ms/step\n",
            "LSTM - Test Accuracy: 99.28%\n",
            "\n",
            "LSTM Classification Report:\n",
            "              precision    recall  f1-score   support\n",
            "\n",
            "         Ham       0.99      1.00      1.00       966\n",
            "        Spam       0.99      0.96      0.97       149\n",
            "\n",
            "    accuracy                           0.99      1115\n",
            "   macro avg       0.99      0.98      0.98      1115\n",
            "weighted avg       0.99      0.99      0.99      1115\n",
            "\n",
            "Training BLSTM...\n",
            "Epoch 1/5\n",
            "\u001b[1m35/35\u001b[0m \u001b[32m━━━━━━━━━━━━━━━━━━━━\u001b[0m\u001b[37m\u001b[0m \u001b[1m1s\u001b[0m 26ms/step - accuracy: 0.9995 - loss: 0.0028 - val_accuracy: 0.9928 - val_loss: 0.0423\n",
            "Epoch 2/5\n",
            "\u001b[1m35/35\u001b[0m \u001b[32m━━━━━━━━━━━━━━━━━━━━\u001b[0m\u001b[37m\u001b[0m \u001b[1m1s\u001b[0m 25ms/step - accuracy: 0.9990 - loss: 0.0028 - val_accuracy: 0.9928 - val_loss: 0.0452\n",
            "Epoch 3/5\n",
            "\u001b[1m35/35\u001b[0m \u001b[32m━━━━━━━━━━━━━━━━━━━━\u001b[0m\u001b[37m\u001b[0m \u001b[1m1s\u001b[0m 24ms/step - accuracy: 1.0000 - loss: 5.8683e-04 - val_accuracy: 0.9928 - val_loss: 0.0492\n",
            "Epoch 4/5\n",
            "\u001b[1m35/35\u001b[0m \u001b[32m━━━━━━━━━━━━━━━━━━━━\u001b[0m\u001b[37m\u001b[0m \u001b[1m1s\u001b[0m 24ms/step - accuracy: 1.0000 - loss: 3.5936e-04 - val_accuracy: 0.9919 - val_loss: 0.0491\n",
            "Epoch 5/5\n",
            "\u001b[1m35/35\u001b[0m \u001b[32m━━━━━━━━━━━━━━━━━━━━\u001b[0m\u001b[37m\u001b[0m \u001b[1m1s\u001b[0m 25ms/step - accuracy: 0.9998 - loss: 6.0552e-04 - val_accuracy: 0.9919 - val_loss: 0.0504\n",
            "\u001b[1m35/35\u001b[0m \u001b[32m━━━━━━━━━━━━━━━━━━━━\u001b[0m\u001b[37m\u001b[0m \u001b[1m0s\u001b[0m 8ms/step - accuracy: 0.9926 - loss: 0.0560\n",
            "\u001b[1m35/35\u001b[0m \u001b[32m━━━━━━━━━━━━━━━━━━━━\u001b[0m\u001b[37m\u001b[0m \u001b[1m0s\u001b[0m 6ms/step\n",
            "BLSTM - Test Accuracy: 99.19%\n",
            "\n",
            "BLSTM Classification Report:\n",
            "              precision    recall  f1-score   support\n",
            "\n",
            "         Ham       0.99      1.00      1.00       966\n",
            "        Spam       0.99      0.95      0.97       149\n",
            "\n",
            "    accuracy                           0.99      1115\n",
            "   macro avg       0.99      0.98      0.98      1115\n",
            "weighted avg       0.99      0.99      0.99      1115\n",
            "\n",
            "Training GRU...\n",
            "Epoch 1/5\n",
            "\u001b[1m35/35\u001b[0m \u001b[32m━━━━━━━━━━━━━━━━━━━━\u001b[0m\u001b[37m\u001b[0m \u001b[1m1s\u001b[0m 16ms/step - accuracy: 0.9994 - loss: 0.0039 - val_accuracy: 0.9910 - val_loss: 0.0384\n",
            "Epoch 2/5\n",
            "\u001b[1m35/35\u001b[0m \u001b[32m━━━━━━━━━━━━━━━━━━━━\u001b[0m\u001b[37m\u001b[0m \u001b[1m1s\u001b[0m 15ms/step - accuracy: 0.9996 - loss: 0.0020 - val_accuracy: 0.9910 - val_loss: 0.0389\n",
            "Epoch 3/5\n",
            "\u001b[1m35/35\u001b[0m \u001b[32m━━━━━━━━━━━━━━━━━━━━\u001b[0m\u001b[37m\u001b[0m \u001b[1m1s\u001b[0m 15ms/step - accuracy: 0.9996 - loss: 9.0349e-04 - val_accuracy: 0.9919 - val_loss: 0.0421\n",
            "Epoch 4/5\n",
            "\u001b[1m35/35\u001b[0m \u001b[32m━━━━━━━━━━━━━━━━━━━━\u001b[0m\u001b[37m\u001b[0m \u001b[1m1s\u001b[0m 14ms/step - accuracy: 1.0000 - loss: 3.4940e-04 - val_accuracy: 0.9919 - val_loss: 0.0474\n",
            "Epoch 5/5\n",
            "\u001b[1m35/35\u001b[0m \u001b[32m━━━━━━━━━━━━━━━━━━━━\u001b[0m\u001b[37m\u001b[0m \u001b[1m1s\u001b[0m 21ms/step - accuracy: 1.0000 - loss: 1.8170e-04 - val_accuracy: 0.9919 - val_loss: 0.0505\n",
            "\u001b[1m35/35\u001b[0m \u001b[32m━━━━━━━━━━━━━━━━━━━━\u001b[0m\u001b[37m\u001b[0m \u001b[1m0s\u001b[0m 7ms/step - accuracy: 0.9925 - loss: 0.0517\n",
            "\u001b[1m35/35\u001b[0m \u001b[32m━━━━━━━━━━━━━━━━━━━━\u001b[0m\u001b[37m\u001b[0m \u001b[1m0s\u001b[0m 6ms/step\n",
            "GRU - Test Accuracy: 99.19%\n",
            "\n",
            "GRU Classification Report:\n",
            "              precision    recall  f1-score   support\n",
            "\n",
            "         Ham       0.99      1.00      1.00       966\n",
            "        Spam       0.99      0.95      0.97       149\n",
            "\n",
            "    accuracy                           0.99      1115\n",
            "   macro avg       0.99      0.97      0.98      1115\n",
            "weighted avg       0.99      0.99      0.99      1115\n",
            "\n",
            "Training BGRU...\n",
            "Epoch 1/5\n",
            "\u001b[1m35/35\u001b[0m \u001b[32m━━━━━━━━━━━━━━━━━━━━\u001b[0m\u001b[37m\u001b[0m \u001b[1m1s\u001b[0m 26ms/step - accuracy: 0.9997 - loss: 0.0020 - val_accuracy: 0.9919 - val_loss: 0.0321\n",
            "Epoch 2/5\n",
            "\u001b[1m35/35\u001b[0m \u001b[32m━━━━━━━━━━━━━━━━━━━━\u001b[0m\u001b[37m\u001b[0m \u001b[1m1s\u001b[0m 23ms/step - accuracy: 0.9995 - loss: 0.0023 - val_accuracy: 0.9928 - val_loss: 0.0314\n",
            "Epoch 3/5\n",
            "\u001b[1m35/35\u001b[0m \u001b[32m━━━━━━━━━━━━━━━━━━━━\u001b[0m\u001b[37m\u001b[0m \u001b[1m1s\u001b[0m 23ms/step - accuracy: 0.9996 - loss: 7.2998e-04 - val_accuracy: 0.9919 - val_loss: 0.0330\n",
            "Epoch 4/5\n",
            "\u001b[1m35/35\u001b[0m \u001b[32m━━━━━━━━━━━━━━━━━━━━\u001b[0m\u001b[37m\u001b[0m \u001b[1m1s\u001b[0m 25ms/step - accuracy: 1.0000 - loss: 3.0108e-04 - val_accuracy: 0.9919 - val_loss: 0.0364\n",
            "Epoch 5/5\n",
            "\u001b[1m35/35\u001b[0m \u001b[32m━━━━━━━━━━━━━━━━━━━━\u001b[0m\u001b[37m\u001b[0m \u001b[1m1s\u001b[0m 23ms/step - accuracy: 1.0000 - loss: 1.3869e-04 - val_accuracy: 0.9919 - val_loss: 0.0391\n",
            "\u001b[1m35/35\u001b[0m \u001b[32m━━━━━━━━━━━━━━━━━━━━\u001b[0m\u001b[37m\u001b[0m \u001b[1m0s\u001b[0m 8ms/step - accuracy: 0.9917 - loss: 0.0415\n",
            "\u001b[1m35/35\u001b[0m \u001b[32m━━━━━━━━━━━━━━━━━━━━\u001b[0m\u001b[37m\u001b[0m \u001b[1m0s\u001b[0m 6ms/step\n",
            "BGRU - Test Accuracy: 99.19%\n",
            "\n",
            "BGRU Classification Report:\n",
            "              precision    recall  f1-score   support\n",
            "\n",
            "         Ham       0.99      1.00      1.00       966\n",
            "        Spam       0.99      0.95      0.97       149\n",
            "\n",
            "    accuracy                           0.99      1115\n",
            "   macro avg       0.99      0.98      0.98      1115\n",
            "weighted avg       0.99      0.99      0.99      1115\n",
            "\n"
          ]
        }
      ]
    },
    {
      "cell_type": "code",
      "source": [
        "# Tabulate results\n",
        "df = pd.DataFrame({\n",
        "    model: {\n",
        "        'Precision': results[model]['1']['precision'],\n",
        "        'Recall': results[model]['1']['recall'],\n",
        "        'F1-Score': results[model]['1']['f1-score']\n",
        "    } for model in results\n",
        "})\n",
        "\n",
        "print(\"\\nPerformance Metrics:\")\n",
        "print(df)\n"
      ],
      "metadata": {
        "colab": {
          "base_uri": "https://localhost:8080/"
        },
        "id": "2znovRsjZ2z_",
        "outputId": "ad2b8977-a13e-43c9-b7ec-12b041decb2f"
      },
      "execution_count": null,
      "outputs": [
        {
          "output_type": "stream",
          "name": "stdout",
          "text": [
            "\n",
            "Performance Metrics:\n",
            "               LSTM     BLSTM       GRU      BGRU\n",
            "Precision  0.986207  0.986111  0.992958  0.986111\n",
            "Recall     0.959732  0.953020  0.946309  0.953020\n",
            "F1-Score   0.972789  0.969283  0.969072  0.969283\n"
          ]
        }
      ]
    },
    {
      "cell_type": "code",
      "source": [
        "# Plot comparison\n",
        "plt.figure(figsize=(12, 5))\n",
        "df.plot(kind='bar', figsize=(10, 6), colormap='viridis')\n",
        "plt.title('Model Comparison - Precision, Recall, F1-Score')\n",
        "plt.ylabel('Score')\n",
        "plt.xlabel('Metrics')\n",
        "plt.legend(title='Models')\n",
        "plt.grid(True)\n",
        "plt.show()"
      ],
      "metadata": {
        "colab": {
          "base_uri": "https://localhost:8080/",
          "height": 629
        },
        "id": "rN2R4Fo9Z5gs",
        "outputId": "8538748e-2c4e-42fa-8a78-6e7bb613382f"
      },
      "execution_count": null,
      "outputs": [
        {
          "output_type": "display_data",
          "data": {
            "text/plain": [
              "<Figure size 1200x500 with 0 Axes>"
            ]
          },
          "metadata": {}
        },
        {
          "output_type": "display_data",
          "data": {
            "text/plain": [
              "<Figure size 1000x600 with 1 Axes>"
            ],
            "image/png": "[encoded data removed]"
          },
          "metadata": {}
        }
      ]
    },
    {
      "cell_type": "markdown",
      "source": [
        "**CONCLUSION**:\n",
        "All the models are showing approximately similiar precisions of 98%. GRU tops with 99.29% of precision. recall and f1 scores are between 95-96."
      ],
      "metadata": {
        "id": "5GBdwrxicI42"
      }
    }
  ]
}