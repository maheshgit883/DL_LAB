{
  "nbformat": 4,
  "nbformat_minor": 0,
  "metadata": {
    "colab": {
      "provenance": []
    },
    "kernelspec": {
      "name": "python3",
      "display_name": "Python 3"
    },
    "language_info": {
      "name": "python"
    }
  },
  "cells": [
    {
      "cell_type": "markdown",
      "source": [
        "MCSE603P - Deep Learning Lab Slot : L3 + L4\n",
        "Lab Ex1 (Part B) Introduction to TensorFlow\n",
        "\n",
        "Name : Jagtap Mahesh Reg. 24MCS1017"
      ],
      "metadata": {
        "id": "KWY6Q1oOBzrU"
      }
    },
    {
      "cell_type": "markdown",
      "source": [
        "1. Create two tensors of shape [2, 3] and perform element-wise addition and subtraction.\n"
      ],
      "metadata": {
        "id": "T3eE_KlYLCwv"
      }
    },
    {
      "cell_type": "code",
      "execution_count": 1,
      "metadata": {
        "id": "G7Ukf-kABqxg",
        "colab": {
          "base_uri": "https://localhost:8080/"
        },
        "outputId": "549f0e55-c28c-49ac-a766-36a6d697dfa6"
      },
      "outputs": [
        {
          "output_type": "stream",
          "name": "stdout",
          "text": [
            "Addition:\n",
            " tf.Tensor(\n",
            "[[ 8 10 12]\n",
            " [14 16 18]], shape=(2, 3), dtype=int32)\n",
            "Subtraction:\n",
            " tf.Tensor(\n",
            "[[-6 -6 -6]\n",
            " [-6 -6 -6]], shape=(2, 3), dtype=int32)\n"
          ]
        }
      ],
      "source": [
        "import tensorflow as tf\n",
        "\n",
        "tensor_a = tf.constant([[1, 2, 3], [4, 5, 6]])\n",
        "tensor_b = tf.constant([[7, 8, 9], [10, 11, 12]])\n",
        "\n",
        "addition = tf.add(tensor_a, tensor_b)\n",
        "subtraction = tf.subtract(tensor_a, tensor_b)\n",
        "\n",
        "print(\"Addition:\\n\", addition)\n",
        "print(\"Subtraction:\\n\", subtraction)\n"
      ]
    },
    {
      "cell_type": "markdown",
      "source": [
        "2. Reshape a tensor from shape [2, 3] to [3, 2].\n"
      ],
      "metadata": {
        "id": "HRsw5HUSLUrc"
      }
    },
    {
      "cell_type": "code",
      "source": [
        "reshaped_tensor = tf.reshape(tensor_a, [3, 2])\n",
        "print(\"Reshaped Tensor:\\n\", reshaped_tensor)\n"
      ],
      "metadata": {
        "colab": {
          "base_uri": "https://localhost:8080/"
        },
        "id": "qShNxUynLWQ5",
        "outputId": "ad68f53b-f184-40ff-949e-d369fb84015d"
      },
      "execution_count": 2,
      "outputs": [
        {
          "output_type": "stream",
          "name": "stdout",
          "text": [
            "Reshaped Tensor:\n",
            " tf.Tensor(\n",
            "[[1 2]\n",
            " [3 4]\n",
            " [5 6]], shape=(3, 2), dtype=int32)\n"
          ]
        }
      ]
    },
    {
      "cell_type": "markdown",
      "source": [
        "3. Create a tensor with integers from 1 to 20 and extract values greater than 10.\n"
      ],
      "metadata": {
        "id": "xq3MYiBQLd7Q"
      }
    },
    {
      "cell_type": "code",
      "source": [
        "tensor = tf.range(1, 21)\n",
        "filtered_tensor = tf.boolean_mask(tensor, tensor > 10)\n",
        "print(\"Filtered Tensor:\\n\", filtered_tensor)\n"
      ],
      "metadata": {
        "colab": {
          "base_uri": "https://localhost:8080/"
        },
        "id": "MUeIqIY4LijF",
        "outputId": "b0ce2dfd-c181-4113-a10f-bfac00455b7b"
      },
      "execution_count": 3,
      "outputs": [
        {
          "output_type": "stream",
          "name": "stdout",
          "text": [
            "Filtered Tensor:\n",
            " tf.Tensor([11 12 13 14 15 16 17 18 19 20], shape=(10,), dtype=int32)\n"
          ]
        }
      ]
    },
    {
      "cell_type": "markdown",
      "source": [
        "4. Perform element-wise multiplication of two tensors of shape [3, 3].\n"
      ],
      "metadata": {
        "id": "KdhdTK75LmrT"
      }
    },
    {
      "cell_type": "code",
      "source": [
        "tensor_x = tf.constant([[1, 2, 3], [4, 5, 6], [7, 8, 9]])\n",
        "tensor_y = tf.constant([[9, 8, 7], [6, 5, 4], [3, 2, 1]])\n",
        "\n",
        "element_wise_multiplication = tf.multiply(tensor_x, tensor_y)\n",
        "print(\"Element-wise Multiplication:\\n\", element_wise_multiplication)\n"
      ],
      "metadata": {
        "colab": {
          "base_uri": "https://localhost:8080/"
        },
        "id": "b5T0GX_fLn7i",
        "outputId": "7a856e10-73a3-4817-cd04-2f4dcf631800"
      },
      "execution_count": 4,
      "outputs": [
        {
          "output_type": "stream",
          "name": "stdout",
          "text": [
            "Element-wise Multiplication:\n",
            " tf.Tensor(\n",
            "[[ 9 16 21]\n",
            " [24 25 24]\n",
            " [21 16  9]], shape=(3, 3), dtype=int32)\n"
          ]
        }
      ]
    },
    {
      "cell_type": "markdown",
      "source": [
        "5. Concatenate two tensors of shape [2, 3] along axis 0 and axis 1.\n"
      ],
      "metadata": {
        "id": "2_l1QTLuLtfN"
      }
    },
    {
      "cell_type": "code",
      "source": [
        "concat_axis_0 = tf.concat([tensor_a, tensor_b], axis=0)\n",
        "concat_axis_1 = tf.concat([tensor_a, tensor_b], axis=1)\n",
        "\n",
        "print(\"Concatenation along axis 0:\\n\", concat_axis_0)\n",
        "print(\"Concatenation along axis 1:\\n\", concat_axis_1)\n"
      ],
      "metadata": {
        "colab": {
          "base_uri": "https://localhost:8080/"
        },
        "id": "h339zcqRLu8Y",
        "outputId": "1eb5a74c-07fd-443a-e916-6af89ac65500"
      },
      "execution_count": 5,
      "outputs": [
        {
          "output_type": "stream",
          "name": "stdout",
          "text": [
            "Concatenation along axis 0:\n",
            " tf.Tensor(\n",
            "[[ 1  2  3]\n",
            " [ 4  5  6]\n",
            " [ 7  8  9]\n",
            " [10 11 12]], shape=(4, 3), dtype=int32)\n",
            "Concatenation along axis 1:\n",
            " tf.Tensor(\n",
            "[[ 1  2  3  7  8  9]\n",
            " [ 4  5  6 10 11 12]], shape=(2, 6), dtype=int32)\n"
          ]
        }
      ]
    },
    {
      "cell_type": "markdown",
      "source": [
        "6. Create an identity matrix of size 4x4.\n"
      ],
      "metadata": {
        "id": "4-oJQ1H_L659"
      }
    },
    {
      "cell_type": "code",
      "source": [
        "identity_matrix = tf.eye(4)\n",
        "print(\"Identity Matrix:\\n\", identity_matrix)\n"
      ],
      "metadata": {
        "colab": {
          "base_uri": "https://localhost:8080/"
        },
        "id": "Mb5qx2ieL727",
        "outputId": "97cdcd3d-9071-405a-a0ad-e524f75635c8"
      },
      "execution_count": 6,
      "outputs": [
        {
          "output_type": "stream",
          "name": "stdout",
          "text": [
            "Identity Matrix:\n",
            " tf.Tensor(\n",
            "[[1. 0. 0. 0.]\n",
            " [0. 1. 0. 0.]\n",
            " [0. 0. 1. 0.]\n",
            " [0. 0. 0. 1.]], shape=(4, 4), dtype=float32)\n"
          ]
        }
      ]
    },
    {
      "cell_type": "markdown",
      "source": [
        "7. Calculate the mean and standard deviation of a tensor with random values of shape [10].\n"
      ],
      "metadata": {
        "id": "3kt0v7krMf1h"
      }
    },
    {
      "cell_type": "code",
      "source": [
        "random_tensor = tf.random.uniform([10], minval=0, maxval=100)\n",
        "mean = tf.reduce_mean(random_tensor)\n",
        "stddev = tf.math.reduce_std(random_tensor)\n",
        "\n",
        "print(\"Mean:\", mean.numpy())\n",
        "print(\"Standard Deviation:\", stddev.numpy())\n"
      ],
      "metadata": {
        "colab": {
          "base_uri": "https://localhost:8080/"
        },
        "id": "7CvmbE0jMg_c",
        "outputId": "878b1504-69ce-4907-b482-a254a9080d41"
      },
      "execution_count": 7,
      "outputs": [
        {
          "output_type": "stream",
          "name": "stdout",
          "text": [
            "Mean: 51.835976\n",
            "Standard Deviation: 30.582539\n"
          ]
        }
      ]
    },
    {
      "cell_type": "markdown",
      "source": [
        "8. Create a tensor of shape [3, 4, 5] with random values and compute the sum along axis 1.\n"
      ],
      "metadata": {
        "id": "DXjt0WdIMp7m"
      }
    },
    {
      "cell_type": "code",
      "source": [
        "tensor_3d = tf.random.uniform([3, 4, 5])\n",
        "sum_along_axis_1 = tf.reduce_sum(tensor_3d, axis=1)\n",
        "print(\"Sum along axis 1:\\n\", sum_along_axis_1)\n"
      ],
      "metadata": {
        "colab": {
          "base_uri": "https://localhost:8080/"
        },
        "id": "wGhjr1yfMq4Q",
        "outputId": "56e93759-95fd-408a-b228-f3aab1b678d2"
      },
      "execution_count": 8,
      "outputs": [
        {
          "output_type": "stream",
          "name": "stdout",
          "text": [
            "Sum along axis 1:\n",
            " tf.Tensor(\n",
            "[[2.3687644 2.0519636 2.8991141 1.2970598 2.751189 ]\n",
            " [2.2071881 1.5771743 2.9412675 2.4192362 2.6229181]\n",
            " [1.175363  1.7601427 2.56619   1.0567586 3.1016   ]], shape=(3, 5), dtype=float32)\n"
          ]
        }
      ]
    },
    {
      "cell_type": "markdown",
      "source": [
        "9. Use tf.argmax to find the index of the maximum value in a 2D tensor.\n"
      ],
      "metadata": {
        "id": "R4gYhHgMMvWb"
      }
    },
    {
      "cell_type": "code",
      "source": [
        "tensor_2d = tf.constant([[1, 5, 3], [4, 2, 8]])\n",
        "max_index = tf.argmax(tensor_2d, axis=1)\n",
        "print(\"Index of maximum values:\\n\", max_index)\n"
      ],
      "metadata": {
        "colab": {
          "base_uri": "https://localhost:8080/"
        },
        "id": "EUohTRFcMwDO",
        "outputId": "1a9a2c45-0800-4e61-ae97-549a85960f93"
      },
      "execution_count": 9,
      "outputs": [
        {
          "output_type": "stream",
          "name": "stdout",
          "text": [
            "Index of maximum values:\n",
            " tf.Tensor([1 2], shape=(2,), dtype=int64)\n"
          ]
        }
      ]
    },
    {
      "cell_type": "markdown",
      "source": [
        "10. Perform a batch matrix multiplication on two tensors of shape [2, 3, 3].\n"
      ],
      "metadata": {
        "id": "8HQpl3y5M2Ct"
      }
    },
    {
      "cell_type": "code",
      "source": [
        "tensor_batch_1 = tf.random.uniform([2, 3, 3])\n",
        "tensor_batch_2 = tf.random.uniform([2, 3, 3])\n",
        "\n",
        "batch_multiplication = tf.matmul(tensor_batch_1, tensor_batch_2)\n",
        "print(\"Batch Matrix Multiplication:\\n\", batch_multiplication)\n"
      ],
      "metadata": {
        "colab": {
          "base_uri": "https://localhost:8080/"
        },
        "id": "ORfYv2i4M1rH",
        "outputId": "b0b6d7d2-fedd-4814-d102-e212dfe40d09"
      },
      "execution_count": 10,
      "outputs": [
        {
          "output_type": "stream",
          "name": "stdout",
          "text": [
            "Batch Matrix Multiplication:\n",
            " tf.Tensor(\n",
            "[[[1.2220974  1.1484401  0.76519823]\n",
            "  [1.8236518  1.8155338  1.1037693 ]\n",
            "  [1.2433233  1.2376136  0.7082404 ]]\n",
            "\n",
            " [[1.0278755  0.36493906 0.2954483 ]\n",
            "  [1.3113047  0.6134627  1.1268651 ]\n",
            "  [1.1242282  0.59886247 0.87061906]]], shape=(2, 3, 3), dtype=float32)\n"
          ]
        }
      ]
    }
  ]
}