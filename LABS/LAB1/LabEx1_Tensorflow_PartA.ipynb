{
  "nbformat": 4,
  "nbformat_minor": 0,
  "metadata": {
    "colab": {
      "provenance": []
    },
    "kernelspec": {
      "name": "python3",
      "display_name": "Python 3"
    },
    "language_info": {
      "name": "python"
    }
  },
  "cells": [
    {
      "cell_type": "markdown",
      "source": [
        "# MCSE603P - Deep Learning Lab        Slot : L3 + L4\n",
        "\n",
        "---\n",
        "Lab Ex1 (Part A) Introduction to TensorFlow\n",
        "\n",
        "Name : Jagtap Mahesh\n",
        "Reg. 24MCS1017"
      ],
      "metadata": {
        "id": "0b6a-45hv6uA"
      }
    },
    {
      "cell_type": "markdown",
      "source": [
        "1.Create a vector, scalar, matrix and tensor with values of your choice\n",
        "using tf.constant()."
      ],
      "metadata": {
        "id": "rbB0hxAOw1jp"
      }
    },
    {
      "cell_type": "code",
      "execution_count": null,
      "metadata": {
        "colab": {
          "base_uri": "https://localhost:8080/"
        },
        "id": "52hq-6DNvaIN",
        "outputId": "a37b0130-2f60-4a8b-ff72-73de2edf0ca2"
      },
      "outputs": [
        {
          "output_type": "stream",
          "name": "stdout",
          "text": [
            "Scalar: tf.Tensor(10, shape=(), dtype=int32)\n",
            "Vector: tf.Tensor([1 2 3 4 5], shape=(5,), dtype=int32)\n",
            "Matrix:\n",
            " tf.Tensor(\n",
            "[[1 2 3]\n",
            " [4 5 6]\n",
            " [7 8 9]], shape=(3, 3), dtype=int32)\n",
            "Tensor:\n",
            " tf.Tensor(\n",
            "[[[ 1  2  3]\n",
            "  [ 4  5  6]]\n",
            "\n",
            " [[ 7  8  9]\n",
            "  [10 11 12]]], shape=(2, 2, 3), dtype=int32)\n"
          ]
        }
      ],
      "source": [
        "import tensorflow as tf\n",
        "\n",
        "# Create a scalar\n",
        "scalar = tf.constant(10)\n",
        "\n",
        "# Create a vector\n",
        "vector = tf.constant([1, 2, 3, 4, 5])\n",
        "\n",
        "# Create a matrix\n",
        "matrix = tf.constant([[1, 2, 3],\n",
        "                     [4, 5, 6],\n",
        "                     [7, 8, 9]])\n",
        "\n",
        "# Create a tensor\n",
        "tensor = tf.constant([\n",
        "    [[1, 2, 3], [4, 5, 6]],\n",
        "    [[7, 8, 9], [10, 11, 12]]\n",
        "])\n",
        "\n",
        "print(\"Scalar:\", scalar)\n",
        "print(\"Vector:\", vector)\n",
        "print(\"Matrix:\\n\", matrix)\n",
        "print(\"Tensor:\\n\", tensor)"
      ]
    },
    {
      "cell_type": "markdown",
      "source": [
        "2.Find the shape, rank and size of the tensors (which you created for Q1)"
      ],
      "metadata": {
        "id": "FGa70XiHz0Ta"
      }
    },
    {
      "cell_type": "code",
      "source": [
        "\n",
        "\n",
        "print(\"Scalar Shape:\", scalar.shape)\n",
        "print(\"Scalar Rank:\", scalar.ndim)\n",
        "print(\"Scalar Size:\", tf.size(scalar))\n",
        "\n",
        "print(\"Vector Shape:\", vector.shape)\n",
        "print(\"Vector Rank:\", vector.ndim)\n",
        "print(\"Vector Size:\", tf.size(vector))\n",
        "\n",
        "print(\"Matrix Shape:\", matrix.shape)\n",
        "print(\"Matrix Rank:\", matrix.ndim)\n",
        "print(\"Matrix Size:\", tf.size(matrix))\n",
        "\n",
        "print(\"Tensor Shape:\", tensor.shape)\n",
        "print(\"Tensor Rank:\", tensor.ndim)\n",
        "print(\"Tensor Size:\", tf.size(tensor))"
      ],
      "metadata": {
        "colab": {
          "base_uri": "https://localhost:8080/"
        },
        "id": "J0g8H_9qvqMR",
        "outputId": "2bd30096-5575-4f7d-898c-4e729cbf908b"
      },
      "execution_count": null,
      "outputs": [
        {
          "output_type": "stream",
          "name": "stdout",
          "text": [
            "Scalar Shape: ()\n",
            "Scalar Rank: 0\n",
            "Scalar Size: tf.Tensor(1, shape=(), dtype=int32)\n",
            "Vector Shape: (5,)\n",
            "Vector Rank: 1\n",
            "Vector Size: tf.Tensor(5, shape=(), dtype=int32)\n",
            "Matrix Shape: (3, 3)\n",
            "Matrix Rank: 2\n",
            "Matrix Size: tf.Tensor(9, shape=(), dtype=int32)\n",
            "Tensor Shape: (2, 2, 3)\n",
            "Tensor Rank: 3\n",
            "Tensor Size: tf.Tensor(12, shape=(), dtype=int32)\n"
          ]
        }
      ]
    },
    {
      "cell_type": "markdown",
      "source": [
        "3.Create two tensors containing random values between 0 and 1 with shape [5, 300]\n",
        "\n",
        "> Add blockquote\n",
        "\n"
      ],
      "metadata": {
        "id": "Qf-ydKxTz_q5"
      }
    },
    {
      "cell_type": "code",
      "source": [
        "tensor1 = tf.random.uniform(shape=[5, 300], minval=0, maxval=1)\n",
        "tensor2 = tf.random.uniform(shape=[5, 300], minval=0, maxval=1)\n",
        "\n",
        "print(\"Tensor 1:\\n\", tensor1)\n",
        "print(\"Tensor 2:\\n\", tensor2)"
      ],
      "metadata": {
        "colab": {
          "base_uri": "https://localhost:8080/"
        },
        "id": "Ow2dpf642Sn6",
        "outputId": "195d4630-d86b-4375-e192-3d2c273ccb5f"
      },
      "execution_count": null,
      "outputs": [
        {
          "output_type": "stream",
          "name": "stdout",
          "text": [
            "Tensor 1:\n",
            " tf.Tensor(\n",
            "[[0.05306041 0.43060517 0.25086045 ... 0.26206815 0.41978693 0.53619325]\n",
            " [0.82701087 0.2599851  0.3166361  ... 0.41629505 0.00677907 0.77845347]\n",
            " [0.2345612  0.48288262 0.33332086 ... 0.07978559 0.21163666 0.9030403 ]\n",
            " [0.06230009 0.05912578 0.9520235  ... 0.71555495 0.0184319  0.05913734]\n",
            " [0.30858958 0.97301114 0.14844155 ... 0.10970187 0.08043885 0.5919429 ]], shape=(5, 300), dtype=float32)\n",
            "Tensor 2:\n",
            " tf.Tensor(\n",
            "[[0.98714256 0.6184623  0.6511196  ... 0.32264328 0.3044951  0.7013577 ]\n",
            " [0.10376239 0.52484906 0.8959751  ... 0.6911777  0.57439625 0.68267   ]\n",
            " [0.8680341  0.69719744 0.4296422  ... 0.52198017 0.9007896  0.50477254]\n",
            " [0.04957807 0.1105274  0.3682084  ... 0.9854803  0.43290508 0.2915765 ]\n",
            " [0.15719962 0.23663509 0.31696284 ... 0.38301456 0.19726026 0.29655135]], shape=(5, 300), dtype=float32)\n"
          ]
        }
      ]
    },
    {
      "cell_type": "markdown",
      "source": [
        "4.Multiply the two tensors (which you created for Question 3) using matrix\n",
        "multiplication."
      ],
      "metadata": {
        "id": "EsboP-VL2Flx"
      }
    },
    {
      "cell_type": "code",
      "source": [
        "# Matrix multiplication requires compatible shapes.\n",
        "# Transpose tensor2 to make shapes compatible for multiplication.\n",
        "# Shape of tensor1: [5, 300]\n",
        "# Shape of tensor2 (transposed): [300, 5]\n",
        "\n",
        "tensor2_transposed = tf.transpose(tensor2)\n",
        "multiplied_tensor = tf.matmul(tensor1, tensor2_transposed)\n",
        "\n",
        "print(\"Multiplied Tensor:\\n\", multiplied_tensor)"
      ],
      "metadata": {
        "colab": {
          "base_uri": "https://localhost:8080/"
        },
        "id": "nx9jCph12dB5",
        "outputId": "b4f2d291-9efe-44e5-bcac-a7726304ecdf"
      },
      "execution_count": null,
      "outputs": [
        {
          "output_type": "stream",
          "name": "stdout",
          "text": [
            "Multiplied Tensor:\n",
            " tf.Tensor(\n",
            "[[76.44772  71.711075 75.08182  74.78281  72.84058 ]\n",
            " [76.009735 76.931816 76.19641  76.07572  74.15805 ]\n",
            " [72.60649  75.079605 74.11636  74.94653  69.87314 ]\n",
            " [79.026794 76.950836 79.7824   77.86337  75.29499 ]\n",
            " [79.131256 76.9599   78.8629   75.77054  74.21129 ]], shape=(5, 5), dtype=float32)\n"
          ]
        }
      ]
    },
    {
      "cell_type": "markdown",
      "source": [
        "5.Multiply the two tensors (which you created for Question 3) using dot product."
      ],
      "metadata": {
        "id": "YBg31rH2240z"
      }
    },
    {
      "cell_type": "code",
      "source": [
        "dot_product = tf.tensordot(tensor1, tf.transpose(tensor2), axes=1)\n",
        "\n",
        "print(\"Dot Product of Tensors:\\n\", dot_product)"
      ],
      "metadata": {
        "colab": {
          "base_uri": "https://localhost:8080/"
        },
        "id": "zuyeD00v29Qa",
        "outputId": "35fecd47-2897-4bfa-db29-0c70b065bd99"
      },
      "execution_count": null,
      "outputs": [
        {
          "output_type": "stream",
          "name": "stdout",
          "text": [
            "Dot Product of Tensors:\n",
            " tf.Tensor(\n",
            "[[76.44772  71.711075 75.08182  74.78281  72.84058 ]\n",
            " [76.009735 76.931816 76.19641  76.07572  74.15805 ]\n",
            " [72.60649  75.079605 74.11636  74.94653  69.87314 ]\n",
            " [79.026794 76.950836 79.7824   77.86337  75.29499 ]\n",
            " [79.131256 76.9599   78.8629   75.77054  74.21129 ]], shape=(5, 5), dtype=float32)\n"
          ]
        }
      ]
    },
    {
      "cell_type": "markdown",
      "source": [
        "6.Create a tensor with random values between 0 and 1 with shape [224, 224,\n",
        "3]."
      ],
      "metadata": {
        "id": "_PyEhldB64ab"
      }
    },
    {
      "cell_type": "code",
      "source": [
        "random_tensor = tf.random.uniform(shape=[224, 224, 3], minval=0, maxval=1)\n",
        "\n",
        "print(random_tensor)"
      ],
      "metadata": {
        "colab": {
          "base_uri": "https://localhost:8080/"
        },
        "id": "j4tHVI3W6_Rb",
        "outputId": "13377086-210c-48cf-bf7c-570efd2cbc0e"
      },
      "execution_count": null,
      "outputs": [
        {
          "output_type": "stream",
          "name": "stdout",
          "text": [
            "tf.Tensor(\n",
            "[[[0.2421763  0.82935536 0.32439578]\n",
            "  [0.31803036 0.05338144 0.11010206]\n",
            "  [0.5878365  0.2911867  0.57394207]\n",
            "  ...\n",
            "  [0.7581792  0.16657114 0.6825017 ]\n",
            "  [0.3930726  0.06793702 0.68028414]\n",
            "  [0.13317633 0.8662126  0.8819821 ]]\n",
            "\n",
            " [[0.15374339 0.53278506 0.9604813 ]\n",
            "  [0.00262535 0.81609297 0.13858294]\n",
            "  [0.14251971 0.6003659  0.9859736 ]\n",
            "  ...\n",
            "  [0.89181435 0.9640503  0.715289  ]\n",
            "  [0.7355523  0.06189764 0.38455737]\n",
            "  [0.24059093 0.33377242 0.8560542 ]]\n",
            "\n",
            " [[0.4190961  0.35560155 0.78004587]\n",
            "  [0.17830741 0.1855073  0.11715949]\n",
            "  [0.76018405 0.7245709  0.15386677]\n",
            "  ...\n",
            "  [0.1396153  0.46305275 0.83198714]\n",
            "  [0.5232308  0.919541   0.19292903]\n",
            "  [0.7540504  0.16013718 0.47429526]]\n",
            "\n",
            " ...\n",
            "\n",
            " [[0.17210078 0.17536724 0.36468792]\n",
            "  [0.77472687 0.1993041  0.9384799 ]\n",
            "  [0.96457696 0.67908144 0.48629093]\n",
            "  ...\n",
            "  [0.7930995  0.7650589  0.5882399 ]\n",
            "  [0.5962484  0.4459145  0.7116078 ]\n",
            "  [0.16882706 0.9032532  0.01493227]]\n",
            "\n",
            " [[0.36864007 0.4254713  0.9485451 ]\n",
            "  [0.37164438 0.5782703  0.3362608 ]\n",
            "  [0.1258688  0.18542838 0.91598415]\n",
            "  ...\n",
            "  [0.9646634  0.17061162 0.571172  ]\n",
            "  [0.85146224 0.7639029  0.7738763 ]\n",
            "  [0.04962778 0.10086584 0.81382954]]\n",
            "\n",
            " [[0.5994879  0.07717812 0.8862555 ]\n",
            "  [0.26431787 0.89070773 0.1385473 ]\n",
            "  [0.57452404 0.5623206  0.8100829 ]\n",
            "  ...\n",
            "  [0.4240589  0.35468996 0.5735712 ]\n",
            "  [0.671466   0.64201283 0.9645653 ]\n",
            "  [0.1530441  0.7025521  0.23469365]]], shape=(224, 224, 3), dtype=float32)\n"
          ]
        }
      ]
    },
    {
      "cell_type": "markdown",
      "source": [
        "7. Find the min and max values of the tensor (which you created for Question 6)"
      ],
      "metadata": {
        "id": "T1abv1te7h8z"
      }
    },
    {
      "cell_type": "code",
      "source": [
        "min_value = tf.reduce_min(random_tensor)\n",
        "max_value = tf.reduce_max(random_tensor)\n",
        "\n",
        "print(\"Minimum value:\", min_value)\n",
        "print(\"Maximum value:\", max_value)"
      ],
      "metadata": {
        "colab": {
          "base_uri": "https://localhost:8080/"
        },
        "id": "vyPMXPhT7hnT",
        "outputId": "254c0c36-ca9f-4110-c39f-3d01c662ce3f"
      },
      "execution_count": null,
      "outputs": [
        {
          "output_type": "stream",
          "name": "stdout",
          "text": [
            "Minimum value: tf.Tensor(8.702278e-06, shape=(), dtype=float32)\n",
            "Maximum value: tf.Tensor(0.99999094, shape=(), dtype=float32)\n"
          ]
        }
      ]
    },
    {
      "cell_type": "markdown",
      "source": [
        "8.Create a tensor with random values of shape [1, 224, 224, 3] then\n",
        "squeeze it to change the shape to [224, 224, 3].\n"
      ],
      "metadata": {
        "id": "YIddbY417zIb"
      }
    },
    {
      "cell_type": "code",
      "source": [
        "import tensorflow as tf\n",
        "\n",
        "random_tensor2 = tf.random.uniform(shape=[1, 224, 224, 3], minval=0, maxval=100)\n",
        "\n",
        "squeezed_tensor = tf.squeeze(random_tensor2)\n",
        "\n",
        "print(\"Original shape:\", random_tensor2.shape)\n",
        "print(\"Squeezed shape:\", squeezed_tensor.shape)"
      ],
      "metadata": {
        "colab": {
          "base_uri": "https://localhost:8080/"
        },
        "id": "3K4-FXk37y1r",
        "outputId": "eeb749cc-f9c1-40c7-c96e-e326f5c3c6a4"
      },
      "execution_count": null,
      "outputs": [
        {
          "output_type": "stream",
          "name": "stdout",
          "text": [
            "Original shape: (1, 224, 224, 3)\n",
            "Squeezed shape: (224, 224, 3)\n"
          ]
        }
      ]
    },
    {
      "cell_type": "markdown",
      "source": [
        "9.Create a tensor with shape [10] using your own choice of values, then find\n",
        "the index which has the maximum value."
      ],
      "metadata": {
        "id": "ImrRSCCu87KD"
      }
    },
    {
      "cell_type": "code",
      "source": [
        "tensor3 = tf.constant([5, 2, 8, 1, 9, 4, 7, 3, 6, 0])\n",
        "\n",
        "max_index = tf.argmax(tensor3)\n",
        "\n",
        "print(\"Tensor:\", tensor3)\n",
        "print(\"Index of maximum value:\", max_index)"
      ],
      "metadata": {
        "colab": {
          "base_uri": "https://localhost:8080/"
        },
        "id": "7zjO1QIb9J-r",
        "outputId": "164ab278-34e3-4482-89c3-585814e437b5"
      },
      "execution_count": null,
      "outputs": [
        {
          "output_type": "stream",
          "name": "stdout",
          "text": [
            "Tensor: tf.Tensor([5 2 8 1 9 4 7 3 6 0], shape=(10,), dtype=int32)\n",
            "Index of maximum value: tf.Tensor(4, shape=(), dtype=int64)\n"
          ]
        }
      ]
    },
    {
      "cell_type": "markdown",
      "source": [
        "10.One-hot encode the tensor you created in 9"
      ],
      "metadata": {
        "id": "D7_SR5Kc9fdM"
      }
    },
    {
      "cell_type": "code",
      "source": [
        "# Define the depth for one-hot encoding (maximum value + 1)\n",
        "depth = tf.reduce_max(tensor3).numpy() + 1\n",
        "one_hot_tensor = tf.one_hot(tensor3, depth)\n",
        "\n",
        "print(\"Original tensor:\", tensor3)\n",
        "print(\"One-hot encoded tensor:\\n\", one_hot_tensor)"
      ],
      "metadata": {
        "colab": {
          "base_uri": "https://localhost:8080/"
        },
        "id": "hpn3InMl9j2r",
        "outputId": "7294bb25-32f0-4f7c-ad1c-e25a71779033"
      },
      "execution_count": null,
      "outputs": [
        {
          "output_type": "stream",
          "name": "stdout",
          "text": [
            "Original tensor: tf.Tensor([5 2 8 1 9 4 7 3 6 0], shape=(10,), dtype=int32)\n",
            "One-hot encoded tensor:\n",
            " tf.Tensor(\n",
            "[[0. 0. 0. 0. 0. 1. 0. 0. 0. 0.]\n",
            " [0. 0. 1. 0. 0. 0. 0. 0. 0. 0.]\n",
            " [0. 0. 0. 0. 0. 0. 0. 0. 1. 0.]\n",
            " [0. 1. 0. 0. 0. 0. 0. 0. 0. 0.]\n",
            " [0. 0. 0. 0. 0. 0. 0. 0. 0. 1.]\n",
            " [0. 0. 0. 0. 1. 0. 0. 0. 0. 0.]\n",
            " [0. 0. 0. 0. 0. 0. 0. 1. 0. 0.]\n",
            " [0. 0. 0. 1. 0. 0. 0. 0. 0. 0.]\n",
            " [0. 0. 0. 0. 0. 0. 1. 0. 0. 0.]\n",
            " [1. 0. 0. 0. 0. 0. 0. 0. 0. 0.]], shape=(10, 10), dtype=float32)\n"
          ]
        }
      ]
    }
  ]
}